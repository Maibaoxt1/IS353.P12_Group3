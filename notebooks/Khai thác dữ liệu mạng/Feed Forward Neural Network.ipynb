{
  "cells": [
    {
      "cell_type": "code",
      "execution_count": 1,
      "metadata": {
        "colab": {
          "base_uri": "https://localhost:8080/"
        },
        "id": "6JFJgo1nmlkC",
        "outputId": "e4219b16-1e60-43e5-effa-ce987c3d760c"
      },
      "outputs": [
        {
          "output_type": "stream",
          "name": "stdout",
          "text": [
            "Mounted at /content/drive\n"
          ]
        }
      ],
      "source": [
        "from google.colab import drive\n",
        "drive.mount('/content/drive')"
      ]
    },
    {
      "cell_type": "code",
      "execution_count": 5,
      "metadata": {
        "id": "zV4iyNvNmptL"
      },
      "outputs": [],
      "source": [
        "import pandas as pd\n",
        "import numpy as np\n",
        "from sklearn.preprocessing import LabelEncoder, OneHotEncoder, OrdinalEncoder\n",
        "from sklearn.compose import ColumnTransformer\n",
        "import matplotlib.pyplot as plt\n",
        "import seaborn as sns\n",
        "\n",
        "import statsmodels.api as sm\n",
        "from statsmodels.formula.api import ols\n",
        "from scipy.stats import chi2_contingency\n",
        "\n",
        "import sys\n",
        "import warnings\n",
        "warnings.filterwarnings('ignore')\n",
        "from sklearn.feature_selection import chi2,f_classif, mutual_info_classif, SelectKBest\n",
        "from sklearn.model_selection import train_test_split, cross_val_score\n",
        "from sklearn.model_selection import RepeatedStratifiedKFold\n",
        "from sklearn.model_selection import StratifiedKFold\n",
        "from sklearn.metrics import classification_report, confusion_matrix\n",
        "import lightgbm as lgb\n",
        "from sklearn.feature_selection import SelectFromModel\n",
        "from sklearn.preprocessing import RobustScaler\n",
        "from imblearn.combine import SMOTEENN\n",
        "from sklearn.svm import SVC\n",
        "from sklearn.neighbors import KNeighborsClassifier\n",
        "from sklearn.ensemble import RandomForestClassifier\n",
        "from sklearn.ensemble import AdaBoostClassifier\n",
        "from sklearn.tree import DecisionTreeClassifier\n",
        "import xgboost as xgb\n",
        "from sklearn.naive_bayes import ComplementNB, GaussianNB, MultinomialNB\n",
        "from sklearn.model_selection import GridSearchCV, StratifiedKFold\n",
        "from sklearn.metrics import ConfusionMatrixDisplay, accuracy_score, precision_score, recall_score, f1_score\n",
        "from xgboost import XGBClassifier\n",
        "from sklearn.feature_extraction import DictVectorizer"
      ]
    },
    {
      "cell_type": "code",
      "execution_count": 6,
      "metadata": {
        "id": "7XBdkqjmmqyL"
      },
      "outputs": [],
      "source": [
        "df = pd.read_csv('/content/drive/MyDrive/Nhóm 3/Bài tập trên lớp/Báo cáo tiến trình/Project/feature_extraction.csv')"
      ]
    },
    {
      "cell_type": "code",
      "execution_count": 7,
      "metadata": {
        "colab": {
          "base_uri": "https://localhost:8080/"
        },
        "id": "5ltzurUJm1pA",
        "outputId": "851b9217-83a8-48e9-d881-c3b839954541"
      },
      "outputs": [
        {
          "output_type": "stream",
          "name": "stdout",
          "text": [
            "<class 'pandas.core.frame.DataFrame'>\n",
            "RangeIndex: 35849 entries, 0 to 35848\n",
            "Data columns (total 13 columns):\n",
            " #   Column                Non-Null Count  Dtype  \n",
            "---  ------                --------------  -----  \n",
            " 0   gioitinh              35849 non-null  int64  \n",
            " 1   xeploai_tt            35849 non-null  int64  \n",
            " 2   hocky                 35849 non-null  int64  \n",
            " 3   namhoc                35849 non-null  int64  \n",
            " 4   drltl                 35849 non-null  int64  \n",
            " 5   sotchk                35849 non-null  int64  \n",
            " 6   dtbhk_truoc           35849 non-null  float64\n",
            " 7   xeploai               35849 non-null  int64  \n",
            " 8   khuvuc_encoded        35849 non-null  int64  \n",
            " 9   namnhaphoc            35849 non-null  int64  \n",
            " 10  chuyennganh2_encoded  35849 non-null  float64\n",
            " 11  hedt_encoded          35849 non-null  int64  \n",
            " 12  khoa_encoded          35849 non-null  int64  \n",
            "dtypes: float64(2), int64(11)\n",
            "memory usage: 3.6 MB\n"
          ]
        }
      ],
      "source": [
        "df.info()"
      ]
    },
    {
      "cell_type": "code",
      "source": [
        "X = df.drop(['xeploai'], axis =1)\n",
        "y = df['xeploai']"
      ],
      "metadata": {
        "id": "h2VA5UrcQHIy"
      },
      "execution_count": 8,
      "outputs": []
    },
    {
      "cell_type": "code",
      "source": [
        "resampler = SMOTEENN(sampling_strategy=\"auto\", random_state=42)\n",
        "X, y = resampler.fit_resample(X, y)"
      ],
      "metadata": {
        "id": "M88XOEt3RtNe"
      },
      "execution_count": 9,
      "outputs": []
    },
    {
      "cell_type": "code",
      "source": [
        "print(\"Resampled X shape:\", X.shape)\n",
        "print(\"Resampled y shape:\", y.shape)"
      ],
      "metadata": {
        "colab": {
          "base_uri": "https://localhost:8080/"
        },
        "id": "6Ek6wRVgRuFk",
        "outputId": "f5871d2b-fcbc-4fba-ec95-64bcfef14074"
      },
      "execution_count": 10,
      "outputs": [
        {
          "output_type": "stream",
          "name": "stdout",
          "text": [
            "Resampled X shape: (44564, 12)\n",
            "Resampled y shape: (44564,)\n"
          ]
        }
      ]
    },
    {
      "cell_type": "code",
      "source": [
        "pip install tensorflow"
      ],
      "metadata": {
        "colab": {
          "base_uri": "https://localhost:8080/"
        },
        "id": "TsWMLeTuK_qz",
        "outputId": "f6e19cb3-0166-495e-80fa-9adaadfef7e8"
      },
      "execution_count": 11,
      "outputs": [
        {
          "output_type": "stream",
          "name": "stdout",
          "text": [
            "Requirement already satisfied: tensorflow in /usr/local/lib/python3.10/dist-packages (2.17.1)\n",
            "Requirement already satisfied: absl-py>=1.0.0 in /usr/local/lib/python3.10/dist-packages (from tensorflow) (1.4.0)\n",
            "Requirement already satisfied: astunparse>=1.6.0 in /usr/local/lib/python3.10/dist-packages (from tensorflow) (1.6.3)\n",
            "Requirement already satisfied: flatbuffers>=24.3.25 in /usr/local/lib/python3.10/dist-packages (from tensorflow) (24.3.25)\n",
            "Requirement already satisfied: gast!=0.5.0,!=0.5.1,!=0.5.2,>=0.2.1 in /usr/local/lib/python3.10/dist-packages (from tensorflow) (0.6.0)\n",
            "Requirement already satisfied: google-pasta>=0.1.1 in /usr/local/lib/python3.10/dist-packages (from tensorflow) (0.2.0)\n",
            "Requirement already satisfied: h5py>=3.10.0 in /usr/local/lib/python3.10/dist-packages (from tensorflow) (3.12.1)\n",
            "Requirement already satisfied: libclang>=13.0.0 in /usr/local/lib/python3.10/dist-packages (from tensorflow) (18.1.1)\n",
            "Requirement already satisfied: ml-dtypes<0.5.0,>=0.3.1 in /usr/local/lib/python3.10/dist-packages (from tensorflow) (0.4.1)\n",
            "Requirement already satisfied: opt-einsum>=2.3.2 in /usr/local/lib/python3.10/dist-packages (from tensorflow) (3.4.0)\n",
            "Requirement already satisfied: packaging in /usr/local/lib/python3.10/dist-packages (from tensorflow) (24.2)\n",
            "Requirement already satisfied: protobuf!=4.21.0,!=4.21.1,!=4.21.2,!=4.21.3,!=4.21.4,!=4.21.5,<5.0.0dev,>=3.20.3 in /usr/local/lib/python3.10/dist-packages (from tensorflow) (4.25.5)\n",
            "Requirement already satisfied: requests<3,>=2.21.0 in /usr/local/lib/python3.10/dist-packages (from tensorflow) (2.32.3)\n",
            "Requirement already satisfied: setuptools in /usr/local/lib/python3.10/dist-packages (from tensorflow) (75.1.0)\n",
            "Requirement already satisfied: six>=1.12.0 in /usr/local/lib/python3.10/dist-packages (from tensorflow) (1.16.0)\n",
            "Requirement already satisfied: termcolor>=1.1.0 in /usr/local/lib/python3.10/dist-packages (from tensorflow) (2.5.0)\n",
            "Requirement already satisfied: typing-extensions>=3.6.6 in /usr/local/lib/python3.10/dist-packages (from tensorflow) (4.12.2)\n",
            "Requirement already satisfied: wrapt>=1.11.0 in /usr/local/lib/python3.10/dist-packages (from tensorflow) (1.17.0)\n",
            "Requirement already satisfied: grpcio<2.0,>=1.24.3 in /usr/local/lib/python3.10/dist-packages (from tensorflow) (1.68.1)\n",
            "Requirement already satisfied: tensorboard<2.18,>=2.17 in /usr/local/lib/python3.10/dist-packages (from tensorflow) (2.17.1)\n",
            "Requirement already satisfied: keras>=3.2.0 in /usr/local/lib/python3.10/dist-packages (from tensorflow) (3.5.0)\n",
            "Requirement already satisfied: tensorflow-io-gcs-filesystem>=0.23.1 in /usr/local/lib/python3.10/dist-packages (from tensorflow) (0.37.1)\n",
            "Requirement already satisfied: numpy<2.0.0,>=1.23.5 in /usr/local/lib/python3.10/dist-packages (from tensorflow) (1.26.4)\n",
            "Requirement already satisfied: wheel<1.0,>=0.23.0 in /usr/local/lib/python3.10/dist-packages (from astunparse>=1.6.0->tensorflow) (0.45.1)\n",
            "Requirement already satisfied: rich in /usr/local/lib/python3.10/dist-packages (from keras>=3.2.0->tensorflow) (13.9.4)\n",
            "Requirement already satisfied: namex in /usr/local/lib/python3.10/dist-packages (from keras>=3.2.0->tensorflow) (0.0.8)\n",
            "Requirement already satisfied: optree in /usr/local/lib/python3.10/dist-packages (from keras>=3.2.0->tensorflow) (0.13.1)\n",
            "Requirement already satisfied: charset-normalizer<4,>=2 in /usr/local/lib/python3.10/dist-packages (from requests<3,>=2.21.0->tensorflow) (3.4.0)\n",
            "Requirement already satisfied: idna<4,>=2.5 in /usr/local/lib/python3.10/dist-packages (from requests<3,>=2.21.0->tensorflow) (3.10)\n",
            "Requirement already satisfied: urllib3<3,>=1.21.1 in /usr/local/lib/python3.10/dist-packages (from requests<3,>=2.21.0->tensorflow) (2.2.3)\n",
            "Requirement already satisfied: certifi>=2017.4.17 in /usr/local/lib/python3.10/dist-packages (from requests<3,>=2.21.0->tensorflow) (2024.8.30)\n",
            "Requirement already satisfied: markdown>=2.6.8 in /usr/local/lib/python3.10/dist-packages (from tensorboard<2.18,>=2.17->tensorflow) (3.7)\n",
            "Requirement already satisfied: tensorboard-data-server<0.8.0,>=0.7.0 in /usr/local/lib/python3.10/dist-packages (from tensorboard<2.18,>=2.17->tensorflow) (0.7.2)\n",
            "Requirement already satisfied: werkzeug>=1.0.1 in /usr/local/lib/python3.10/dist-packages (from tensorboard<2.18,>=2.17->tensorflow) (3.1.3)\n",
            "Requirement already satisfied: MarkupSafe>=2.1.1 in /usr/local/lib/python3.10/dist-packages (from werkzeug>=1.0.1->tensorboard<2.18,>=2.17->tensorflow) (3.0.2)\n",
            "Requirement already satisfied: markdown-it-py>=2.2.0 in /usr/local/lib/python3.10/dist-packages (from rich->keras>=3.2.0->tensorflow) (3.0.0)\n",
            "Requirement already satisfied: pygments<3.0.0,>=2.13.0 in /usr/local/lib/python3.10/dist-packages (from rich->keras>=3.2.0->tensorflow) (2.18.0)\n",
            "Requirement already satisfied: mdurl~=0.1 in /usr/local/lib/python3.10/dist-packages (from markdown-it-py>=2.2.0->rich->keras>=3.2.0->tensorflow) (0.1.2)\n"
          ]
        }
      ]
    },
    {
      "cell_type": "markdown",
      "source": [
        "# Deep learning"
      ],
      "metadata": {
        "id": "1LYPZ34yEP8U"
      }
    },
    {
      "cell_type": "code",
      "source": [
        "from tensorflow.keras.models import Model\n",
        "from tensorflow.keras.layers import Input, Dense, Dropout, Concatenate\n",
        "from tensorflow.keras.optimizers import Adam\n",
        "from tensorflow.keras.callbacks import EarlyStopping, ReduceLROnPlateau\n",
        "from tensorflow.keras.utils import to_categorical\n",
        "\n",
        "X_train, X_temp, y_train, y_temp = train_test_split(X, y, test_size=0.2, random_state=42)\n",
        "X_val, X_test, y_val, y_test = train_test_split(X_temp, y_temp, test_size=0.5, random_state=42)\n",
        "\n",
        "scaler = RobustScaler()\n",
        "\n",
        "X_train_scaled = scaler.fit_transform(X_train)\n",
        "X_val_scaled = scaler.transform(X_val)\n",
        "X_test_scaled = scaler.transform(X_test)\n",
        "\n",
        "num_classes = len(np.unique(y))\n",
        "\n",
        "y_train_one_hot = to_categorical(y_train, num_classes=num_classes)\n",
        "y_val_one_hot = to_categorical(y_val, num_classes=num_classes)\n",
        "y_test_one_hot = to_categorical(y_test, num_classes=num_classes)\n",
        "\n",
        "\n",
        "\n",
        "input_layer = Input(shape=(X_train_scaled.shape[1],))\n",
        "\n",
        "x_layer = Dense(128, activation='relu')(input_layer)\n",
        "x_layer = Dropout(0.4)(x_layer)\n",
        "x_layer = Dense(64, activation='relu')(x_layer)\n",
        "\n",
        "output = Dense(num_classes, activation='softmax')(x_layer)\n",
        "model = Model(inputs=input_layer, outputs=output)\n",
        "\n",
        "model.compile(optimizer=Adam(learning_rate=0.0001), loss='categorical_crossentropy', metrics=['accuracy'])\n",
        "\n",
        "early_stopping = EarlyStopping(monitor='val_loss', patience=5, restore_best_weights=True)\n",
        "lr_scheduler = ReduceLROnPlateau(monitor='val_loss', factor=0.5, patience=3, min_lr=1e-6)\n",
        "\n",
        "history = model.fit(\n",
        "    X_train_scaled, y_train_one_hot,\n",
        "    validation_data=(X_val_scaled, y_val_one_hot),\n",
        "    epochs=100,\n",
        "    batch_size=32,\n",
        "    callbacks=[early_stopping, lr_scheduler]\n",
        ")\n"
      ],
      "metadata": {
        "colab": {
          "base_uri": "https://localhost:8080/"
        },
        "id": "_dsTEVeSQx11",
        "outputId": "065621db-6058-46f3-9d28-95b477898f59"
      },
      "execution_count": 12,
      "outputs": [
        {
          "output_type": "stream",
          "name": "stdout",
          "text": [
            "Epoch 1/100\n",
            "\u001b[1m1115/1115\u001b[0m \u001b[32m━━━━━━━━━━━━━━━━━━━━\u001b[0m\u001b[37m\u001b[0m \u001b[1m15s\u001b[0m 8ms/step - accuracy: 0.4920 - loss: 1.2994 - val_accuracy: 0.6771 - val_loss: 0.7739 - learning_rate: 1.0000e-04\n",
            "Epoch 2/100\n",
            "\u001b[1m1115/1115\u001b[0m \u001b[32m━━━━━━━━━━━━━━━━━━━━\u001b[0m\u001b[37m\u001b[0m \u001b[1m12s\u001b[0m 3ms/step - accuracy: 0.6695 - loss: 0.7932 - val_accuracy: 0.6968 - val_loss: 0.6893 - learning_rate: 1.0000e-04\n",
            "Epoch 3/100\n",
            "\u001b[1m1115/1115\u001b[0m \u001b[32m━━━━━━━━━━━━━━━━━━━━\u001b[0m\u001b[37m\u001b[0m \u001b[1m2s\u001b[0m 2ms/step - accuracy: 0.6888 - loss: 0.7338 - val_accuracy: 0.7074 - val_loss: 0.6629 - learning_rate: 1.0000e-04\n",
            "Epoch 4/100\n",
            "\u001b[1m1115/1115\u001b[0m \u001b[32m━━━━━━━━━━━━━━━━━━━━\u001b[0m\u001b[37m\u001b[0m \u001b[1m2s\u001b[0m 2ms/step - accuracy: 0.7021 - loss: 0.6966 - val_accuracy: 0.7211 - val_loss: 0.6480 - learning_rate: 1.0000e-04\n",
            "Epoch 5/100\n",
            "\u001b[1m1115/1115\u001b[0m \u001b[32m━━━━━━━━━━━━━━━━━━━━\u001b[0m\u001b[37m\u001b[0m \u001b[1m2s\u001b[0m 2ms/step - accuracy: 0.7069 - loss: 0.6856 - val_accuracy: 0.7213 - val_loss: 0.6397 - learning_rate: 1.0000e-04\n",
            "Epoch 6/100\n",
            "\u001b[1m1115/1115\u001b[0m \u001b[32m━━━━━━━━━━━━━━━━━━━━\u001b[0m\u001b[37m\u001b[0m \u001b[1m2s\u001b[0m 2ms/step - accuracy: 0.7104 - loss: 0.6778 - val_accuracy: 0.7237 - val_loss: 0.6321 - learning_rate: 1.0000e-04\n",
            "Epoch 7/100\n",
            "\u001b[1m1115/1115\u001b[0m \u001b[32m━━━━━━━━━━━━━━━━━━━━\u001b[0m\u001b[37m\u001b[0m \u001b[1m2s\u001b[0m 2ms/step - accuracy: 0.7129 - loss: 0.6762 - val_accuracy: 0.7276 - val_loss: 0.6247 - learning_rate: 1.0000e-04\n",
            "Epoch 8/100\n",
            "\u001b[1m1115/1115\u001b[0m \u001b[32m━━━━━━━━━━━━━━━━━━━━\u001b[0m\u001b[37m\u001b[0m \u001b[1m3s\u001b[0m 3ms/step - accuracy: 0.7197 - loss: 0.6579 - val_accuracy: 0.7338 - val_loss: 0.6188 - learning_rate: 1.0000e-04\n",
            "Epoch 9/100\n",
            "\u001b[1m1115/1115\u001b[0m \u001b[32m━━━━━━━━━━━━━━━━━━━━\u001b[0m\u001b[37m\u001b[0m \u001b[1m3s\u001b[0m 2ms/step - accuracy: 0.7241 - loss: 0.6556 - val_accuracy: 0.7388 - val_loss: 0.6166 - learning_rate: 1.0000e-04\n",
            "Epoch 10/100\n",
            "\u001b[1m1115/1115\u001b[0m \u001b[32m━━━━━━━━━━━━━━━━━━━━\u001b[0m\u001b[37m\u001b[0m \u001b[1m5s\u001b[0m 2ms/step - accuracy: 0.7186 - loss: 0.6523 - val_accuracy: 0.7412 - val_loss: 0.6104 - learning_rate: 1.0000e-04\n",
            "Epoch 11/100\n",
            "\u001b[1m1115/1115\u001b[0m \u001b[32m━━━━━━━━━━━━━━━━━━━━\u001b[0m\u001b[37m\u001b[0m \u001b[1m2s\u001b[0m 2ms/step - accuracy: 0.7282 - loss: 0.6472 - val_accuracy: 0.7410 - val_loss: 0.6068 - learning_rate: 1.0000e-04\n",
            "Epoch 12/100\n",
            "\u001b[1m1115/1115\u001b[0m \u001b[32m━━━━━━━━━━━━━━━━━━━━\u001b[0m\u001b[37m\u001b[0m \u001b[1m2s\u001b[0m 2ms/step - accuracy: 0.7256 - loss: 0.6407 - val_accuracy: 0.7424 - val_loss: 0.6032 - learning_rate: 1.0000e-04\n",
            "Epoch 13/100\n",
            "\u001b[1m1115/1115\u001b[0m \u001b[32m━━━━━━━━━━━━━━━━━━━━\u001b[0m\u001b[37m\u001b[0m \u001b[1m3s\u001b[0m 3ms/step - accuracy: 0.7265 - loss: 0.6374 - val_accuracy: 0.7433 - val_loss: 0.6025 - learning_rate: 1.0000e-04\n",
            "Epoch 14/100\n",
            "\u001b[1m1115/1115\u001b[0m \u001b[32m━━━━━━━━━━━━━━━━━━━━\u001b[0m\u001b[37m\u001b[0m \u001b[1m4s\u001b[0m 2ms/step - accuracy: 0.7283 - loss: 0.6368 - val_accuracy: 0.7435 - val_loss: 0.5988 - learning_rate: 1.0000e-04\n",
            "Epoch 15/100\n",
            "\u001b[1m1115/1115\u001b[0m \u001b[32m━━━━━━━━━━━━━━━━━━━━\u001b[0m\u001b[37m\u001b[0m \u001b[1m2s\u001b[0m 2ms/step - accuracy: 0.7305 - loss: 0.6318 - val_accuracy: 0.7482 - val_loss: 0.5965 - learning_rate: 1.0000e-04\n",
            "Epoch 16/100\n",
            "\u001b[1m1115/1115\u001b[0m \u001b[32m━━━━━━━━━━━━━━━━━━━━\u001b[0m\u001b[37m\u001b[0m \u001b[1m2s\u001b[0m 2ms/step - accuracy: 0.7309 - loss: 0.6336 - val_accuracy: 0.7478 - val_loss: 0.5948 - learning_rate: 1.0000e-04\n",
            "Epoch 17/100\n",
            "\u001b[1m1115/1115\u001b[0m \u001b[32m━━━━━━━━━━━━━━━━━━━━\u001b[0m\u001b[37m\u001b[0m \u001b[1m3s\u001b[0m 2ms/step - accuracy: 0.7335 - loss: 0.6307 - val_accuracy: 0.7496 - val_loss: 0.5923 - learning_rate: 1.0000e-04\n",
            "Epoch 18/100\n",
            "\u001b[1m1115/1115\u001b[0m \u001b[32m━━━━━━━━━━━━━━━━━━━━\u001b[0m\u001b[37m\u001b[0m \u001b[1m4s\u001b[0m 3ms/step - accuracy: 0.7366 - loss: 0.6231 - val_accuracy: 0.7498 - val_loss: 0.5909 - learning_rate: 1.0000e-04\n",
            "Epoch 19/100\n",
            "\u001b[1m1115/1115\u001b[0m \u001b[32m━━━━━━━━━━━━━━━━━━━━\u001b[0m\u001b[37m\u001b[0m \u001b[1m2s\u001b[0m 2ms/step - accuracy: 0.7398 - loss: 0.6201 - val_accuracy: 0.7531 - val_loss: 0.5890 - learning_rate: 1.0000e-04\n",
            "Epoch 20/100\n",
            "\u001b[1m1115/1115\u001b[0m \u001b[32m━━━━━━━━━━━━━━━━━━━━\u001b[0m\u001b[37m\u001b[0m \u001b[1m2s\u001b[0m 2ms/step - accuracy: 0.7396 - loss: 0.6239 - val_accuracy: 0.7518 - val_loss: 0.5870 - learning_rate: 1.0000e-04\n",
            "Epoch 21/100\n",
            "\u001b[1m1115/1115\u001b[0m \u001b[32m━━━━━━━━━━━━━━━━━━━━\u001b[0m\u001b[37m\u001b[0m \u001b[1m3s\u001b[0m 2ms/step - accuracy: 0.7398 - loss: 0.6197 - val_accuracy: 0.7540 - val_loss: 0.5848 - learning_rate: 1.0000e-04\n",
            "Epoch 22/100\n",
            "\u001b[1m1115/1115\u001b[0m \u001b[32m━━━━━━━━━━━━━━━━━━━━\u001b[0m\u001b[37m\u001b[0m \u001b[1m2s\u001b[0m 2ms/step - accuracy: 0.7457 - loss: 0.6098 - val_accuracy: 0.7547 - val_loss: 0.5837 - learning_rate: 1.0000e-04\n",
            "Epoch 23/100\n",
            "\u001b[1m1115/1115\u001b[0m \u001b[32m━━━━━━━━━━━━━━━━━━━━\u001b[0m\u001b[37m\u001b[0m \u001b[1m3s\u001b[0m 2ms/step - accuracy: 0.7386 - loss: 0.6201 - val_accuracy: 0.7563 - val_loss: 0.5827 - learning_rate: 1.0000e-04\n",
            "Epoch 24/100\n",
            "\u001b[1m1115/1115\u001b[0m \u001b[32m━━━━━━━━━━━━━━━━━━━━\u001b[0m\u001b[37m\u001b[0m \u001b[1m2s\u001b[0m 2ms/step - accuracy: 0.7389 - loss: 0.6207 - val_accuracy: 0.7594 - val_loss: 0.5806 - learning_rate: 1.0000e-04\n",
            "Epoch 25/100\n",
            "\u001b[1m1115/1115\u001b[0m \u001b[32m━━━━━━━━━━━━━━━━━━━━\u001b[0m\u001b[37m\u001b[0m \u001b[1m2s\u001b[0m 2ms/step - accuracy: 0.7436 - loss: 0.6139 - val_accuracy: 0.7603 - val_loss: 0.5805 - learning_rate: 1.0000e-04\n",
            "Epoch 26/100\n",
            "\u001b[1m1115/1115\u001b[0m \u001b[32m━━━━━━━━━━━━━━━━━━━━\u001b[0m\u001b[37m\u001b[0m \u001b[1m2s\u001b[0m 2ms/step - accuracy: 0.7414 - loss: 0.6168 - val_accuracy: 0.7590 - val_loss: 0.5779 - learning_rate: 1.0000e-04\n",
            "Epoch 27/100\n",
            "\u001b[1m1115/1115\u001b[0m \u001b[32m━━━━━━━━━━━━━━━━━━━━\u001b[0m\u001b[37m\u001b[0m \u001b[1m2s\u001b[0m 2ms/step - accuracy: 0.7440 - loss: 0.6131 - val_accuracy: 0.7605 - val_loss: 0.5770 - learning_rate: 1.0000e-04\n",
            "Epoch 28/100\n",
            "\u001b[1m1115/1115\u001b[0m \u001b[32m━━━━━━━━━━━━━━━━━━━━\u001b[0m\u001b[37m\u001b[0m \u001b[1m3s\u001b[0m 2ms/step - accuracy: 0.7451 - loss: 0.6134 - val_accuracy: 0.7614 - val_loss: 0.5759 - learning_rate: 1.0000e-04\n",
            "Epoch 29/100\n",
            "\u001b[1m1115/1115\u001b[0m \u001b[32m━━━━━━━━━━━━━━━━━━━━\u001b[0m\u001b[37m\u001b[0m \u001b[1m3s\u001b[0m 3ms/step - accuracy: 0.7437 - loss: 0.6111 - val_accuracy: 0.7630 - val_loss: 0.5752 - learning_rate: 1.0000e-04\n",
            "Epoch 30/100\n",
            "\u001b[1m1115/1115\u001b[0m \u001b[32m━━━━━━━━━━━━━━━━━━━━\u001b[0m\u001b[37m\u001b[0m \u001b[1m4s\u001b[0m 2ms/step - accuracy: 0.7436 - loss: 0.6116 - val_accuracy: 0.7623 - val_loss: 0.5749 - learning_rate: 1.0000e-04\n",
            "Epoch 31/100\n",
            "\u001b[1m1115/1115\u001b[0m \u001b[32m━━━━━━━━━━━━━━━━━━━━\u001b[0m\u001b[37m\u001b[0m \u001b[1m2s\u001b[0m 2ms/step - accuracy: 0.7438 - loss: 0.6091 - val_accuracy: 0.7632 - val_loss: 0.5741 - learning_rate: 1.0000e-04\n",
            "Epoch 32/100\n",
            "\u001b[1m1115/1115\u001b[0m \u001b[32m━━━━━━━━━━━━━━━━━━━━\u001b[0m\u001b[37m\u001b[0m \u001b[1m2s\u001b[0m 2ms/step - accuracy: 0.7478 - loss: 0.6034 - val_accuracy: 0.7637 - val_loss: 0.5727 - learning_rate: 1.0000e-04\n",
            "Epoch 33/100\n",
            "\u001b[1m1115/1115\u001b[0m \u001b[32m━━━━━━━━━━━━━━━━━━━━\u001b[0m\u001b[37m\u001b[0m \u001b[1m2s\u001b[0m 2ms/step - accuracy: 0.7438 - loss: 0.6115 - val_accuracy: 0.7659 - val_loss: 0.5713 - learning_rate: 1.0000e-04\n",
            "Epoch 34/100\n",
            "\u001b[1m1115/1115\u001b[0m \u001b[32m━━━━━━━━━━━━━━━━━━━━\u001b[0m\u001b[37m\u001b[0m \u001b[1m5s\u001b[0m 4ms/step - accuracy: 0.7495 - loss: 0.6011 - val_accuracy: 0.7662 - val_loss: 0.5708 - learning_rate: 1.0000e-04\n",
            "Epoch 35/100\n",
            "\u001b[1m1115/1115\u001b[0m \u001b[32m━━━━━━━━━━━━━━━━━━━━\u001b[0m\u001b[37m\u001b[0m \u001b[1m2s\u001b[0m 2ms/step - accuracy: 0.7464 - loss: 0.6054 - val_accuracy: 0.7619 - val_loss: 0.5704 - learning_rate: 1.0000e-04\n",
            "Epoch 36/100\n",
            "\u001b[1m1115/1115\u001b[0m \u001b[32m━━━━━━━━━━━━━━━━━━━━\u001b[0m\u001b[37m\u001b[0m \u001b[1m2s\u001b[0m 2ms/step - accuracy: 0.7510 - loss: 0.5952 - val_accuracy: 0.7695 - val_loss: 0.5689 - learning_rate: 1.0000e-04\n",
            "Epoch 37/100\n",
            "\u001b[1m1115/1115\u001b[0m \u001b[32m━━━━━━━━━━━━━━━━━━━━\u001b[0m\u001b[37m\u001b[0m \u001b[1m3s\u001b[0m 2ms/step - accuracy: 0.7434 - loss: 0.6073 - val_accuracy: 0.7697 - val_loss: 0.5684 - learning_rate: 1.0000e-04\n",
            "Epoch 38/100\n",
            "\u001b[1m1115/1115\u001b[0m \u001b[32m━━━━━━━━━━━━━━━━━━━━\u001b[0m\u001b[37m\u001b[0m \u001b[1m2s\u001b[0m 2ms/step - accuracy: 0.7548 - loss: 0.5940 - val_accuracy: 0.7668 - val_loss: 0.5674 - learning_rate: 1.0000e-04\n",
            "Epoch 39/100\n",
            "\u001b[1m1115/1115\u001b[0m \u001b[32m━━━━━━━━━━━━━━━━━━━━\u001b[0m\u001b[37m\u001b[0m \u001b[1m3s\u001b[0m 2ms/step - accuracy: 0.7496 - loss: 0.6054 - val_accuracy: 0.7686 - val_loss: 0.5658 - learning_rate: 1.0000e-04\n",
            "Epoch 40/100\n",
            "\u001b[1m1115/1115\u001b[0m \u001b[32m━━━━━━━━━━━━━━━━━━━━\u001b[0m\u001b[37m\u001b[0m \u001b[1m3s\u001b[0m 3ms/step - accuracy: 0.7464 - loss: 0.6051 - val_accuracy: 0.7700 - val_loss: 0.5652 - learning_rate: 1.0000e-04\n",
            "Epoch 41/100\n",
            "\u001b[1m1115/1115\u001b[0m \u001b[32m━━━━━━━━━━━━━━━━━━━━\u001b[0m\u001b[37m\u001b[0m \u001b[1m2s\u001b[0m 2ms/step - accuracy: 0.7485 - loss: 0.5961 - val_accuracy: 0.7709 - val_loss: 0.5642 - learning_rate: 1.0000e-04\n",
            "Epoch 42/100\n",
            "\u001b[1m1115/1115\u001b[0m \u001b[32m━━━━━━━━━━━━━━━━━━━━\u001b[0m\u001b[37m\u001b[0m \u001b[1m2s\u001b[0m 2ms/step - accuracy: 0.7484 - loss: 0.6028 - val_accuracy: 0.7711 - val_loss: 0.5637 - learning_rate: 1.0000e-04\n",
            "Epoch 43/100\n",
            "\u001b[1m1115/1115\u001b[0m \u001b[32m━━━━━━━━━━━━━━━━━━━━\u001b[0m\u001b[37m\u001b[0m \u001b[1m2s\u001b[0m 2ms/step - accuracy: 0.7503 - loss: 0.5925 - val_accuracy: 0.7702 - val_loss: 0.5633 - learning_rate: 1.0000e-04\n",
            "Epoch 44/100\n",
            "\u001b[1m1115/1115\u001b[0m \u001b[32m━━━━━━━━━━━━━━━━━━━━\u001b[0m\u001b[37m\u001b[0m \u001b[1m2s\u001b[0m 2ms/step - accuracy: 0.7525 - loss: 0.5896 - val_accuracy: 0.7711 - val_loss: 0.5631 - learning_rate: 1.0000e-04\n",
            "Epoch 45/100\n",
            "\u001b[1m1115/1115\u001b[0m \u001b[32m━━━━━━━━━━━━━━━━━━━━\u001b[0m\u001b[37m\u001b[0m \u001b[1m3s\u001b[0m 2ms/step - accuracy: 0.7539 - loss: 0.5853 - val_accuracy: 0.7713 - val_loss: 0.5622 - learning_rate: 1.0000e-04\n",
            "Epoch 46/100\n",
            "\u001b[1m1115/1115\u001b[0m \u001b[32m━━━━━━━━━━━━━━━━━━━━\u001b[0m\u001b[37m\u001b[0m \u001b[1m3s\u001b[0m 3ms/step - accuracy: 0.7517 - loss: 0.5920 - val_accuracy: 0.7695 - val_loss: 0.5614 - learning_rate: 1.0000e-04\n",
            "Epoch 47/100\n",
            "\u001b[1m1115/1115\u001b[0m \u001b[32m━━━━━━━━━━━━━━━━━━━━\u001b[0m\u001b[37m\u001b[0m \u001b[1m4s\u001b[0m 2ms/step - accuracy: 0.7487 - loss: 0.6006 - val_accuracy: 0.7697 - val_loss: 0.5620 - learning_rate: 1.0000e-04\n",
            "Epoch 48/100\n",
            "\u001b[1m1115/1115\u001b[0m \u001b[32m━━━━━━━━━━━━━━━━━━━━\u001b[0m\u001b[37m\u001b[0m \u001b[1m2s\u001b[0m 2ms/step - accuracy: 0.7557 - loss: 0.5873 - val_accuracy: 0.7731 - val_loss: 0.5614 - learning_rate: 1.0000e-04\n",
            "Epoch 49/100\n",
            "\u001b[1m1115/1115\u001b[0m \u001b[32m━━━━━━━━━━━━━━━━━━━━\u001b[0m\u001b[37m\u001b[0m \u001b[1m3s\u001b[0m 2ms/step - accuracy: 0.7510 - loss: 0.5917 - val_accuracy: 0.7722 - val_loss: 0.5606 - learning_rate: 1.0000e-04\n",
            "Epoch 50/100\n",
            "\u001b[1m1115/1115\u001b[0m \u001b[32m━━━━━━━━━━━━━━━━━━━━\u001b[0m\u001b[37m\u001b[0m \u001b[1m2s\u001b[0m 2ms/step - accuracy: 0.7522 - loss: 0.5891 - val_accuracy: 0.7738 - val_loss: 0.5591 - learning_rate: 1.0000e-04\n",
            "Epoch 51/100\n",
            "\u001b[1m1115/1115\u001b[0m \u001b[32m━━━━━━━━━━━━━━━━━━━━\u001b[0m\u001b[37m\u001b[0m \u001b[1m3s\u001b[0m 3ms/step - accuracy: 0.7584 - loss: 0.5844 - val_accuracy: 0.7736 - val_loss: 0.5602 - learning_rate: 1.0000e-04\n",
            "Epoch 52/100\n",
            "\u001b[1m1115/1115\u001b[0m \u001b[32m━━━━━━━━━━━━━━━━━━━━\u001b[0m\u001b[37m\u001b[0m \u001b[1m4s\u001b[0m 2ms/step - accuracy: 0.7502 - loss: 0.5908 - val_accuracy: 0.7724 - val_loss: 0.5580 - learning_rate: 1.0000e-04\n",
            "Epoch 53/100\n",
            "\u001b[1m1115/1115\u001b[0m \u001b[32m━━━━━━━━━━━━━━━━━━━━\u001b[0m\u001b[37m\u001b[0m \u001b[1m2s\u001b[0m 2ms/step - accuracy: 0.7598 - loss: 0.5825 - val_accuracy: 0.7745 - val_loss: 0.5576 - learning_rate: 1.0000e-04\n",
            "Epoch 54/100\n",
            "\u001b[1m1115/1115\u001b[0m \u001b[32m━━━━━━━━━━━━━━━━━━━━\u001b[0m\u001b[37m\u001b[0m \u001b[1m2s\u001b[0m 2ms/step - accuracy: 0.7559 - loss: 0.5898 - val_accuracy: 0.7740 - val_loss: 0.5557 - learning_rate: 1.0000e-04\n",
            "Epoch 55/100\n",
            "\u001b[1m1115/1115\u001b[0m \u001b[32m━━━━━━━━━━━━━━━━━━━━\u001b[0m\u001b[37m\u001b[0m \u001b[1m5s\u001b[0m 4ms/step - accuracy: 0.7543 - loss: 0.5935 - val_accuracy: 0.7738 - val_loss: 0.5574 - learning_rate: 1.0000e-04\n",
            "Epoch 56/100\n",
            "\u001b[1m1115/1115\u001b[0m \u001b[32m━━━━━━━━━━━━━━━━━━━━\u001b[0m\u001b[37m\u001b[0m \u001b[1m4s\u001b[0m 4ms/step - accuracy: 0.7592 - loss: 0.5745 - val_accuracy: 0.7760 - val_loss: 0.5549 - learning_rate: 1.0000e-04\n",
            "Epoch 57/100\n",
            "\u001b[1m1115/1115\u001b[0m \u001b[32m━━━━━━━━━━━━━━━━━━━━\u001b[0m\u001b[37m\u001b[0m \u001b[1m3s\u001b[0m 2ms/step - accuracy: 0.7591 - loss: 0.5806 - val_accuracy: 0.7736 - val_loss: 0.5547 - learning_rate: 1.0000e-04\n",
            "Epoch 58/100\n",
            "\u001b[1m1115/1115\u001b[0m \u001b[32m━━━━━━━━━━━━━━━━━━━━\u001b[0m\u001b[37m\u001b[0m \u001b[1m2s\u001b[0m 2ms/step - accuracy: 0.7631 - loss: 0.5827 - val_accuracy: 0.7754 - val_loss: 0.5550 - learning_rate: 1.0000e-04\n",
            "Epoch 59/100\n",
            "\u001b[1m1115/1115\u001b[0m \u001b[32m━━━━━━━━━━━━━━━━━━━━\u001b[0m\u001b[37m\u001b[0m \u001b[1m2s\u001b[0m 2ms/step - accuracy: 0.7614 - loss: 0.5747 - val_accuracy: 0.7778 - val_loss: 0.5536 - learning_rate: 1.0000e-04\n",
            "Epoch 60/100\n",
            "\u001b[1m1115/1115\u001b[0m \u001b[32m━━━━━━━━━━━━━━━━━━━━\u001b[0m\u001b[37m\u001b[0m \u001b[1m3s\u001b[0m 3ms/step - accuracy: 0.7522 - loss: 0.5911 - val_accuracy: 0.7783 - val_loss: 0.5537 - learning_rate: 1.0000e-04\n",
            "Epoch 61/100\n",
            "\u001b[1m1115/1115\u001b[0m \u001b[32m━━━━━━━━━━━━━━━━━━━━\u001b[0m\u001b[37m\u001b[0m \u001b[1m2s\u001b[0m 2ms/step - accuracy: 0.7618 - loss: 0.5713 - val_accuracy: 0.7763 - val_loss: 0.5528 - learning_rate: 1.0000e-04\n",
            "Epoch 62/100\n",
            "\u001b[1m1115/1115\u001b[0m \u001b[32m━━━━━━━━━━━━━━━━━━━━\u001b[0m\u001b[37m\u001b[0m \u001b[1m2s\u001b[0m 2ms/step - accuracy: 0.7541 - loss: 0.5822 - val_accuracy: 0.7778 - val_loss: 0.5518 - learning_rate: 1.0000e-04\n",
            "Epoch 63/100\n",
            "\u001b[1m1115/1115\u001b[0m \u001b[32m━━━━━━━━━━━━━━━━━━━━\u001b[0m\u001b[37m\u001b[0m \u001b[1m2s\u001b[0m 2ms/step - accuracy: 0.7578 - loss: 0.5777 - val_accuracy: 0.7772 - val_loss: 0.5514 - learning_rate: 1.0000e-04\n",
            "Epoch 64/100\n",
            "\u001b[1m1115/1115\u001b[0m \u001b[32m━━━━━━━━━━━━━━━━━━━━\u001b[0m\u001b[37m\u001b[0m \u001b[1m2s\u001b[0m 2ms/step - accuracy: 0.7597 - loss: 0.5845 - val_accuracy: 0.7789 - val_loss: 0.5500 - learning_rate: 1.0000e-04\n",
            "Epoch 65/100\n",
            "\u001b[1m1115/1115\u001b[0m \u001b[32m━━━━━━━━━━━━━━━━━━━━\u001b[0m\u001b[37m\u001b[0m \u001b[1m3s\u001b[0m 2ms/step - accuracy: 0.7567 - loss: 0.5835 - val_accuracy: 0.7778 - val_loss: 0.5495 - learning_rate: 1.0000e-04\n",
            "Epoch 66/100\n",
            "\u001b[1m1115/1115\u001b[0m \u001b[32m━━━━━━━━━━━━━━━━━━━━\u001b[0m\u001b[37m\u001b[0m \u001b[1m3s\u001b[0m 3ms/step - accuracy: 0.7623 - loss: 0.5783 - val_accuracy: 0.7789 - val_loss: 0.5491 - learning_rate: 1.0000e-04\n",
            "Epoch 67/100\n",
            "\u001b[1m1115/1115\u001b[0m \u001b[32m━━━━━━━━━━━━━━━━━━━━\u001b[0m\u001b[37m\u001b[0m \u001b[1m2s\u001b[0m 2ms/step - accuracy: 0.7636 - loss: 0.5721 - val_accuracy: 0.7774 - val_loss: 0.5487 - learning_rate: 1.0000e-04\n",
            "Epoch 68/100\n",
            "\u001b[1m1115/1115\u001b[0m \u001b[32m━━━━━━━━━━━━━━━━━━━━\u001b[0m\u001b[37m\u001b[0m \u001b[1m3s\u001b[0m 2ms/step - accuracy: 0.7650 - loss: 0.5693 - val_accuracy: 0.7781 - val_loss: 0.5485 - learning_rate: 1.0000e-04\n",
            "Epoch 69/100\n",
            "\u001b[1m1115/1115\u001b[0m \u001b[32m━━━━━━━━━━━━━━━━━━━━\u001b[0m\u001b[37m\u001b[0m \u001b[1m3s\u001b[0m 2ms/step - accuracy: 0.7589 - loss: 0.5769 - val_accuracy: 0.7769 - val_loss: 0.5479 - learning_rate: 1.0000e-04\n",
            "Epoch 70/100\n",
            "\u001b[1m1115/1115\u001b[0m \u001b[32m━━━━━━━━━━━━━━━━━━━━\u001b[0m\u001b[37m\u001b[0m \u001b[1m2s\u001b[0m 2ms/step - accuracy: 0.7571 - loss: 0.5777 - val_accuracy: 0.7767 - val_loss: 0.5480 - learning_rate: 1.0000e-04\n",
            "Epoch 71/100\n",
            "\u001b[1m1115/1115\u001b[0m \u001b[32m━━━━━━━━━━━━━━━━━━━━\u001b[0m\u001b[37m\u001b[0m \u001b[1m3s\u001b[0m 2ms/step - accuracy: 0.7595 - loss: 0.5794 - val_accuracy: 0.7798 - val_loss: 0.5459 - learning_rate: 1.0000e-04\n",
            "Epoch 72/100\n",
            "\u001b[1m1115/1115\u001b[0m \u001b[32m━━━━━━━━━━━━━━━━━━━━\u001b[0m\u001b[37m\u001b[0m \u001b[1m3s\u001b[0m 2ms/step - accuracy: 0.7607 - loss: 0.5733 - val_accuracy: 0.7789 - val_loss: 0.5465 - learning_rate: 1.0000e-04\n",
            "Epoch 73/100\n",
            "\u001b[1m1115/1115\u001b[0m \u001b[32m━━━━━━━━━━━━━━━━━━━━\u001b[0m\u001b[37m\u001b[0m \u001b[1m2s\u001b[0m 2ms/step - accuracy: 0.7599 - loss: 0.5840 - val_accuracy: 0.7807 - val_loss: 0.5459 - learning_rate: 1.0000e-04\n",
            "Epoch 74/100\n",
            "\u001b[1m1115/1115\u001b[0m \u001b[32m━━━━━━━━━━━━━━━━━━━━\u001b[0m\u001b[37m\u001b[0m \u001b[1m2s\u001b[0m 2ms/step - accuracy: 0.7586 - loss: 0.5802 - val_accuracy: 0.7772 - val_loss: 0.5452 - learning_rate: 1.0000e-04\n",
            "Epoch 75/100\n",
            "\u001b[1m1115/1115\u001b[0m \u001b[32m━━━━━━━━━━━━━━━━━━━━\u001b[0m\u001b[37m\u001b[0m \u001b[1m2s\u001b[0m 2ms/step - accuracy: 0.7641 - loss: 0.5718 - val_accuracy: 0.7814 - val_loss: 0.5441 - learning_rate: 1.0000e-04\n",
            "Epoch 76/100\n",
            "\u001b[1m1115/1115\u001b[0m \u001b[32m━━━━━━━━━━━━━━━━━━━━\u001b[0m\u001b[37m\u001b[0m \u001b[1m2s\u001b[0m 2ms/step - accuracy: 0.7664 - loss: 0.5705 - val_accuracy: 0.7810 - val_loss: 0.5433 - learning_rate: 1.0000e-04\n",
            "Epoch 77/100\n",
            "\u001b[1m1115/1115\u001b[0m \u001b[32m━━━━━━━━━━━━━━━━━━━━\u001b[0m\u001b[37m\u001b[0m \u001b[1m3s\u001b[0m 2ms/step - accuracy: 0.7638 - loss: 0.5749 - val_accuracy: 0.7776 - val_loss: 0.5441 - learning_rate: 1.0000e-04\n",
            "Epoch 78/100\n",
            "\u001b[1m1115/1115\u001b[0m \u001b[32m━━━━━━━━━━━━━━━━━━━━\u001b[0m\u001b[37m\u001b[0m \u001b[1m3s\u001b[0m 3ms/step - accuracy: 0.7599 - loss: 0.5755 - val_accuracy: 0.7796 - val_loss: 0.5432 - learning_rate: 1.0000e-04\n",
            "Epoch 79/100\n",
            "\u001b[1m1115/1115\u001b[0m \u001b[32m━━━━━━━━━━━━━━━━━━━━\u001b[0m\u001b[37m\u001b[0m \u001b[1m4s\u001b[0m 2ms/step - accuracy: 0.7637 - loss: 0.5671 - val_accuracy: 0.7816 - val_loss: 0.5413 - learning_rate: 1.0000e-04\n",
            "Epoch 80/100\n",
            "\u001b[1m1115/1115\u001b[0m \u001b[32m━━━━━━━━━━━━━━━━━━━━\u001b[0m\u001b[37m\u001b[0m \u001b[1m2s\u001b[0m 2ms/step - accuracy: 0.7598 - loss: 0.5735 - val_accuracy: 0.7821 - val_loss: 0.5421 - learning_rate: 1.0000e-04\n",
            "Epoch 81/100\n",
            "\u001b[1m1115/1115\u001b[0m \u001b[32m━━━━━━━━━━━━━━━━━━━━\u001b[0m\u001b[37m\u001b[0m \u001b[1m2s\u001b[0m 2ms/step - accuracy: 0.7694 - loss: 0.5615 - val_accuracy: 0.7834 - val_loss: 0.5413 - learning_rate: 1.0000e-04\n",
            "Epoch 82/100\n",
            "\u001b[1m1115/1115\u001b[0m \u001b[32m━━━━━━━━━━━━━━━━━━━━\u001b[0m\u001b[37m\u001b[0m \u001b[1m2s\u001b[0m 2ms/step - accuracy: 0.7625 - loss: 0.5694 - val_accuracy: 0.7801 - val_loss: 0.5404 - learning_rate: 1.0000e-04\n",
            "Epoch 83/100\n",
            "\u001b[1m1115/1115\u001b[0m \u001b[32m━━━━━━━━━━━━━━━━━━━━\u001b[0m\u001b[37m\u001b[0m \u001b[1m3s\u001b[0m 3ms/step - accuracy: 0.7644 - loss: 0.5611 - val_accuracy: 0.7837 - val_loss: 0.5395 - learning_rate: 1.0000e-04\n",
            "Epoch 84/100\n",
            "\u001b[1m1115/1115\u001b[0m \u001b[32m━━━━━━━━━━━━━━━━━━━━\u001b[0m\u001b[37m\u001b[0m \u001b[1m4s\u001b[0m 2ms/step - accuracy: 0.7634 - loss: 0.5681 - val_accuracy: 0.7830 - val_loss: 0.5392 - learning_rate: 1.0000e-04\n",
            "Epoch 85/100\n",
            "\u001b[1m1115/1115\u001b[0m \u001b[32m━━━━━━━━━━━━━━━━━━━━\u001b[0m\u001b[37m\u001b[0m \u001b[1m2s\u001b[0m 2ms/step - accuracy: 0.7646 - loss: 0.5723 - val_accuracy: 0.7837 - val_loss: 0.5391 - learning_rate: 1.0000e-04\n",
            "Epoch 86/100\n",
            "\u001b[1m1115/1115\u001b[0m \u001b[32m━━━━━━━━━━━━━━━━━━━━\u001b[0m\u001b[37m\u001b[0m \u001b[1m2s\u001b[0m 2ms/step - accuracy: 0.7631 - loss: 0.5699 - val_accuracy: 0.7834 - val_loss: 0.5405 - learning_rate: 1.0000e-04\n",
            "Epoch 87/100\n",
            "\u001b[1m1115/1115\u001b[0m \u001b[32m━━━━━━━━━━━━━━━━━━━━\u001b[0m\u001b[37m\u001b[0m \u001b[1m2s\u001b[0m 2ms/step - accuracy: 0.7681 - loss: 0.5571 - val_accuracy: 0.7832 - val_loss: 0.5380 - learning_rate: 1.0000e-04\n",
            "Epoch 88/100\n",
            "\u001b[1m1115/1115\u001b[0m \u001b[32m━━━━━━━━━━━━━━━━━━━━\u001b[0m\u001b[37m\u001b[0m \u001b[1m3s\u001b[0m 3ms/step - accuracy: 0.7663 - loss: 0.5636 - val_accuracy: 0.7848 - val_loss: 0.5384 - learning_rate: 1.0000e-04\n",
            "Epoch 89/100\n",
            "\u001b[1m1115/1115\u001b[0m \u001b[32m━━━━━━━━━━━━━━━━━━━━\u001b[0m\u001b[37m\u001b[0m \u001b[1m4s\u001b[0m 2ms/step - accuracy: 0.7670 - loss: 0.5655 - val_accuracy: 0.7855 - val_loss: 0.5364 - learning_rate: 1.0000e-04\n",
            "Epoch 90/100\n",
            "\u001b[1m1115/1115\u001b[0m \u001b[32m━━━━━━━━━━━━━━━━━━━━\u001b[0m\u001b[37m\u001b[0m \u001b[1m2s\u001b[0m 2ms/step - accuracy: 0.7638 - loss: 0.5713 - val_accuracy: 0.7855 - val_loss: 0.5372 - learning_rate: 1.0000e-04\n",
            "Epoch 91/100\n",
            "\u001b[1m1115/1115\u001b[0m \u001b[32m━━━━━━━━━━━━━━━━━━━━\u001b[0m\u001b[37m\u001b[0m \u001b[1m3s\u001b[0m 2ms/step - accuracy: 0.7641 - loss: 0.5715 - val_accuracy: 0.7837 - val_loss: 0.5361 - learning_rate: 1.0000e-04\n",
            "Epoch 92/100\n",
            "\u001b[1m1115/1115\u001b[0m \u001b[32m━━━━━━━━━━━━━━━━━━━━\u001b[0m\u001b[37m\u001b[0m \u001b[1m3s\u001b[0m 2ms/step - accuracy: 0.7678 - loss: 0.5634 - val_accuracy: 0.7846 - val_loss: 0.5353 - learning_rate: 1.0000e-04\n",
            "Epoch 93/100\n",
            "\u001b[1m1115/1115\u001b[0m \u001b[32m━━━━━━━━━━━━━━━━━━━━\u001b[0m\u001b[37m\u001b[0m \u001b[1m5s\u001b[0m 2ms/step - accuracy: 0.7618 - loss: 0.5694 - val_accuracy: 0.7837 - val_loss: 0.5361 - learning_rate: 1.0000e-04\n",
            "Epoch 94/100\n",
            "\u001b[1m1115/1115\u001b[0m \u001b[32m━━━━━━━━━━━━━━━━━━━━\u001b[0m\u001b[37m\u001b[0m \u001b[1m2s\u001b[0m 2ms/step - accuracy: 0.7635 - loss: 0.5652 - val_accuracy: 0.7857 - val_loss: 0.5346 - learning_rate: 1.0000e-04\n",
            "Epoch 95/100\n",
            "\u001b[1m1115/1115\u001b[0m \u001b[32m━━━━━━━━━━━━━━━━━━━━\u001b[0m\u001b[37m\u001b[0m \u001b[1m3s\u001b[0m 2ms/step - accuracy: 0.7672 - loss: 0.5583 - val_accuracy: 0.7879 - val_loss: 0.5339 - learning_rate: 1.0000e-04\n",
            "Epoch 96/100\n",
            "\u001b[1m1115/1115\u001b[0m \u001b[32m━━━━━━━━━━━━━━━━━━━━\u001b[0m\u001b[37m\u001b[0m \u001b[1m3s\u001b[0m 2ms/step - accuracy: 0.7667 - loss: 0.5650 - val_accuracy: 0.7825 - val_loss: 0.5346 - learning_rate: 1.0000e-04\n",
            "Epoch 97/100\n",
            "\u001b[1m1115/1115\u001b[0m \u001b[32m━━━━━━━━━━━━━━━━━━━━\u001b[0m\u001b[37m\u001b[0m \u001b[1m3s\u001b[0m 3ms/step - accuracy: 0.7711 - loss: 0.5483 - val_accuracy: 0.7877 - val_loss: 0.5336 - learning_rate: 1.0000e-04\n",
            "Epoch 98/100\n",
            "\u001b[1m1115/1115\u001b[0m \u001b[32m━━━━━━━━━━━━━━━━━━━━\u001b[0m\u001b[37m\u001b[0m \u001b[1m4s\u001b[0m 2ms/step - accuracy: 0.7674 - loss: 0.5602 - val_accuracy: 0.7857 - val_loss: 0.5331 - learning_rate: 1.0000e-04\n",
            "Epoch 99/100\n",
            "\u001b[1m1115/1115\u001b[0m \u001b[32m━━━━━━━━━━━━━━━━━━━━\u001b[0m\u001b[37m\u001b[0m \u001b[1m3s\u001b[0m 2ms/step - accuracy: 0.7699 - loss: 0.5642 - val_accuracy: 0.7861 - val_loss: 0.5337 - learning_rate: 1.0000e-04\n",
            "Epoch 100/100\n",
            "\u001b[1m1115/1115\u001b[0m \u001b[32m━━━━━━━━━━━━━━━━━━━━\u001b[0m\u001b[37m\u001b[0m \u001b[1m2s\u001b[0m 2ms/step - accuracy: 0.7668 - loss: 0.5691 - val_accuracy: 0.7879 - val_loss: 0.5322 - learning_rate: 1.0000e-04\n"
          ]
        }
      ]
    },
    {
      "cell_type": "code",
      "source": [
        "test_loss, test_accuracy = model.evaluate(X_test_scaled, y_test_one_hot)\n",
        "print(\"Test accuracy:\", test_accuracy)"
      ],
      "metadata": {
        "id": "DhjVqhoPSkcJ",
        "outputId": "b194ccb8-642e-4e74-f516-f89e721a12f8",
        "colab": {
          "base_uri": "https://localhost:8080/"
        }
      },
      "execution_count": 13,
      "outputs": [
        {
          "output_type": "stream",
          "name": "stdout",
          "text": [
            "\u001b[1m140/140\u001b[0m \u001b[32m━━━━━━━━━━━━━━━━━━━━\u001b[0m\u001b[37m\u001b[0m \u001b[1m1s\u001b[0m 4ms/step - accuracy: 0.7696 - loss: 0.5423\n",
            "Test accuracy: 0.7646399140357971\n"
          ]
        }
      ]
    },
    {
      "cell_type": "code",
      "source": [
        "plt.figure(figsize=(10, 6))\n",
        "plt.plot(history.history['accuracy'], label='Train Accuracy')\n",
        "plt.plot(history.history['val_accuracy'], label='Validation Accuracy')\n",
        "plt.plot(history.history['loss'], label='Train Loss')\n",
        "plt.plot(history.history['val_loss'], label='Validation Loss')\n",
        "plt.legend()\n",
        "plt.title(\"Learning Curve\")\n",
        "plt.xlabel(\"Epochs\")\n",
        "plt.ylabel(\"Metrics\")\n",
        "plt.show()\n"
      ],
      "metadata": {
        "id": "rdU3Om_uSoiQ",
        "outputId": "90a1cada-71c0-49b8-c938-34751dd52167",
        "colab": {
          "base_uri": "https://localhost:8080/",
          "height": 564
        }
      },
      "execution_count": 14,
      "outputs": [
        {
          "output_type": "display_data",
          "data": {
            "text/plain": [
              "<Figure size 1000x600 with 1 Axes>"
            ],
            "image/png": "[encoded data removed]"
          },
          "metadata": {}
        }
      ]
    }
  ],
  "metadata": {
    "colab": {
      "provenance": [],
      "gpuType": "T4"
    },
    "kernelspec": {
      "display_name": "Python 3",
      "name": "python3"
    },
    "language_info": {
      "name": "python"
    },
    "accelerator": "GPU"
  },
  "nbformat": 4,
  "nbformat_minor": 0
}