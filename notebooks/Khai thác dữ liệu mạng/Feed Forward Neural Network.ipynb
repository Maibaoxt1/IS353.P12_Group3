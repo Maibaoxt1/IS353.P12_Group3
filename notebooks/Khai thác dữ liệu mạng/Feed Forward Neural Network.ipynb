{
 "cells": [
  {
   "cell_type": "code",
   "execution_count": 1,
   "metadata": {
    "colab": {
     "base_uri": "https://localhost:8080/"
    },
    "id": "6JFJgo1nmlkC",
    "outputId": "ea042bc7-8daf-4c7f-d9ec-1044924d2edc"
   },
   "outputs": [
    {
     "name": "stdout",
     "output_type": "stream",
     "text": [
      "Mounted at /content/drive\n"
     ]
    }
   ],
   "source": [
    "from google.colab import drive\n",
    "drive.mount('/content/drive')"
   ]
  },
  {
   "cell_type": "code",
   "execution_count": 2,
   "metadata": {
    "id": "zV4iyNvNmptL"
   },
   "outputs": [],
   "source": [
    "import pandas as pd\n",
    "import numpy as np\n",
    "from sklearn.preprocessing import LabelEncoder, OneHotEncoder, OrdinalEncoder\n",
    "from sklearn.compose import ColumnTransformer\n",
    "import matplotlib.pyplot as plt\n",
    "import seaborn as sns\n",
    "\n",
    "import statsmodels.api as sm\n",
    "from statsmodels.formula.api import ols\n",
    "from scipy.stats import chi2_contingency\n",
    "\n",
    "import sys\n",
    "import warnings\n",
    "warnings.filterwarnings('ignore')\n",
    "from sklearn.feature_selection import chi2,f_classif, mutual_info_classif, SelectKBest\n",
    "from sklearn.model_selection import train_test_split, cross_val_score\n",
    "from sklearn.model_selection import RepeatedStratifiedKFold\n",
    "from sklearn.model_selection import StratifiedKFold\n",
    "from sklearn.metrics import classification_report, confusion_matrix\n",
    "import lightgbm as lgb\n",
    "from sklearn.feature_selection import SelectFromModel\n",
    "from sklearn.preprocessing import RobustScaler\n",
    "from imblearn.combine import SMOTEENN\n",
    "from sklearn.svm import SVC\n",
    "from sklearn.neighbors import KNeighborsClassifier\n",
    "from sklearn.ensemble import RandomForestClassifier\n",
    "from sklearn.ensemble import AdaBoostClassifier\n",
    "from sklearn.tree import DecisionTreeClassifier\n",
    "import xgboost as xgb\n",
    "from sklearn.naive_bayes import ComplementNB, GaussianNB, MultinomialNB\n",
    "from sklearn.model_selection import GridSearchCV, StratifiedKFold\n",
    "from sklearn.metrics import ConfusionMatrixDisplay, accuracy_score, precision_score, recall_score, f1_score\n",
    "from xgboost import XGBClassifier\n",
    "from sklearn.feature_extraction import DictVectorizer"
   ]
  },
  {
   "cell_type": "code",
   "execution_count": 3,
   "metadata": {
    "id": "7XBdkqjmmqyL"
   },
   "outputs": [],
   "source": [
    "df = pd.read_csv('/content/drive/MyDrive/Nhóm 3/Bài tập trên lớp/Báo cáo tiến trình/Project/feature_extraction.csv')"
   ]
  },
  {
   "cell_type": "code",
   "execution_count": 4,
   "metadata": {
    "colab": {
     "base_uri": "https://localhost:8080/"
    },
    "id": "5ltzurUJm1pA",
    "outputId": "16d182d4-6b84-4282-cf7f-5253f03c4701"
   },
   "outputs": [
    {
     "name": "stdout",
     "output_type": "stream",
     "text": [
      "<class 'pandas.core.frame.DataFrame'>\n",
      "RangeIndex: 35849 entries, 0 to 35848\n",
      "Data columns (total 13 columns):\n",
      " #   Column                Non-Null Count  Dtype  \n",
      "---  ------                --------------  -----  \n",
      " 0   gioitinh              35849 non-null  int64  \n",
      " 1   xeploai_tt            35849 non-null  int64  \n",
      " 2   hocky                 35849 non-null  int64  \n",
      " 3   namhoc                35849 non-null  int64  \n",
      " 4   drltl                 35849 non-null  int64  \n",
      " 5   sotchk                35849 non-null  int64  \n",
      " 6   dtbhk_truoc           35849 non-null  float64\n",
      " 7   xeploai               35849 non-null  int64  \n",
      " 8   khuvuc_encoded        35849 non-null  int64  \n",
      " 9   namnhaphoc            35849 non-null  int64  \n",
      " 10  chuyennganh2_encoded  35849 non-null  float64\n",
      " 11  hedt_encoded          35849 non-null  int64  \n",
      " 12  khoa_encoded          35849 non-null  int64  \n",
      "dtypes: float64(2), int64(11)\n",
      "memory usage: 3.6 MB\n"
     ]
    }
   ],
   "source": [
    "df.info()"
   ]
  },
  {
   "cell_type": "code",
   "execution_count": 5,
   "metadata": {
    "id": "h2VA5UrcQHIy"
   },
   "outputs": [],
   "source": [
    "X = df.drop(['xeploai'], axis =1)\n",
    "y = df['xeploai']"
   ]
  },
  {
   "cell_type": "code",
   "execution_count": 6,
   "metadata": {
    "id": "M88XOEt3RtNe"
   },
   "outputs": [],
   "source": [
    "resampler = SMOTEENN(sampling_strategy=\"auto\", random_state=42)\n",
    "X, y = resampler.fit_resample(X, y)"
   ]
  },
  {
   "cell_type": "code",
   "execution_count": 7,
   "metadata": {
    "colab": {
     "base_uri": "https://localhost:8080/"
    },
    "id": "6Ek6wRVgRuFk",
    "outputId": "3475c61c-a556-462b-e160-d9a03079f30f"
   },
   "outputs": [
    {
     "name": "stdout",
     "output_type": "stream",
     "text": [
      "Resampled X shape: (44564, 12)\n",
      "Resampled y shape: (44564,)\n"
     ]
    }
   ],
   "source": [
    "print(\"Resampled X shape:\", X.shape)\n",
    "print(\"Resampled y shape:\", y.shape)"
   ]
  },
  {
   "cell_type": "code",
   "execution_count": 8,
   "metadata": {
    "colab": {
     "base_uri": "https://localhost:8080/"
    },
    "id": "TsWMLeTuK_qz",
    "outputId": "8134acec-24e5-4054-a845-728ef09e43a9"
   },
   "outputs": [
    {
     "name": "stdout",
     "output_type": "stream",
     "text": [
      "Requirement already satisfied: tensorflow in /usr/local/lib/python3.10/dist-packages (2.17.1)\n",
      "Requirement already satisfied: absl-py>=1.0.0 in /usr/local/lib/python3.10/dist-packages (from tensorflow) (1.4.0)\n",
      "Requirement already satisfied: astunparse>=1.6.0 in /usr/local/lib/python3.10/dist-packages (from tensorflow) (1.6.3)\n",
      "Requirement already satisfied: flatbuffers>=24.3.25 in /usr/local/lib/python3.10/dist-packages (from tensorflow) (24.3.25)\n",
      "Requirement already satisfied: gast!=0.5.0,!=0.5.1,!=0.5.2,>=0.2.1 in /usr/local/lib/python3.10/dist-packages (from tensorflow) (0.6.0)\n",
      "Requirement already satisfied: google-pasta>=0.1.1 in /usr/local/lib/python3.10/dist-packages (from tensorflow) (0.2.0)\n",
      "Requirement already satisfied: h5py>=3.10.0 in /usr/local/lib/python3.10/dist-packages (from tensorflow) (3.12.1)\n",
      "Requirement already satisfied: libclang>=13.0.0 in /usr/local/lib/python3.10/dist-packages (from tensorflow) (18.1.1)\n",
      "Requirement already satisfied: ml-dtypes<0.5.0,>=0.3.1 in /usr/local/lib/python3.10/dist-packages (from tensorflow) (0.4.1)\n",
      "Requirement already satisfied: opt-einsum>=2.3.2 in /usr/local/lib/python3.10/dist-packages (from tensorflow) (3.4.0)\n",
      "Requirement already satisfied: packaging in /usr/local/lib/python3.10/dist-packages (from tensorflow) (24.2)\n",
      "Requirement already satisfied: protobuf!=4.21.0,!=4.21.1,!=4.21.2,!=4.21.3,!=4.21.4,!=4.21.5,<5.0.0dev,>=3.20.3 in /usr/local/lib/python3.10/dist-packages (from tensorflow) (4.25.5)\n",
      "Requirement already satisfied: requests<3,>=2.21.0 in /usr/local/lib/python3.10/dist-packages (from tensorflow) (2.32.3)\n",
      "Requirement already satisfied: setuptools in /usr/local/lib/python3.10/dist-packages (from tensorflow) (75.1.0)\n",
      "Requirement already satisfied: six>=1.12.0 in /usr/local/lib/python3.10/dist-packages (from tensorflow) (1.16.0)\n",
      "Requirement already satisfied: termcolor>=1.1.0 in /usr/local/lib/python3.10/dist-packages (from tensorflow) (2.5.0)\n",
      "Requirement already satisfied: typing-extensions>=3.6.6 in /usr/local/lib/python3.10/dist-packages (from tensorflow) (4.12.2)\n",
      "Requirement already satisfied: wrapt>=1.11.0 in /usr/local/lib/python3.10/dist-packages (from tensorflow) (1.17.0)\n",
      "Requirement already satisfied: grpcio<2.0,>=1.24.3 in /usr/local/lib/python3.10/dist-packages (from tensorflow) (1.68.1)\n",
      "Requirement already satisfied: tensorboard<2.18,>=2.17 in /usr/local/lib/python3.10/dist-packages (from tensorflow) (2.17.1)\n",
      "Requirement already satisfied: keras>=3.2.0 in /usr/local/lib/python3.10/dist-packages (from tensorflow) (3.5.0)\n",
      "Requirement already satisfied: tensorflow-io-gcs-filesystem>=0.23.1 in /usr/local/lib/python3.10/dist-packages (from tensorflow) (0.37.1)\n",
      "Requirement already satisfied: numpy<2.0.0,>=1.23.5 in /usr/local/lib/python3.10/dist-packages (from tensorflow) (1.26.4)\n",
      "Requirement already satisfied: wheel<1.0,>=0.23.0 in /usr/local/lib/python3.10/dist-packages (from astunparse>=1.6.0->tensorflow) (0.45.1)\n",
      "Requirement already satisfied: rich in /usr/local/lib/python3.10/dist-packages (from keras>=3.2.0->tensorflow) (13.9.4)\n",
      "Requirement already satisfied: namex in /usr/local/lib/python3.10/dist-packages (from keras>=3.2.0->tensorflow) (0.0.8)\n",
      "Requirement already satisfied: optree in /usr/local/lib/python3.10/dist-packages (from keras>=3.2.0->tensorflow) (0.13.1)\n",
      "Requirement already satisfied: charset-normalizer<4,>=2 in /usr/local/lib/python3.10/dist-packages (from requests<3,>=2.21.0->tensorflow) (3.4.0)\n",
      "Requirement already satisfied: idna<4,>=2.5 in /usr/local/lib/python3.10/dist-packages (from requests<3,>=2.21.0->tensorflow) (3.10)\n",
      "Requirement already satisfied: urllib3<3,>=1.21.1 in /usr/local/lib/python3.10/dist-packages (from requests<3,>=2.21.0->tensorflow) (2.2.3)\n",
      "Requirement already satisfied: certifi>=2017.4.17 in /usr/local/lib/python3.10/dist-packages (from requests<3,>=2.21.0->tensorflow) (2024.8.30)\n",
      "Requirement already satisfied: markdown>=2.6.8 in /usr/local/lib/python3.10/dist-packages (from tensorboard<2.18,>=2.17->tensorflow) (3.7)\n",
      "Requirement already satisfied: tensorboard-data-server<0.8.0,>=0.7.0 in /usr/local/lib/python3.10/dist-packages (from tensorboard<2.18,>=2.17->tensorflow) (0.7.2)\n",
      "Requirement already satisfied: werkzeug>=1.0.1 in /usr/local/lib/python3.10/dist-packages (from tensorboard<2.18,>=2.17->tensorflow) (3.1.3)\n",
      "Requirement already satisfied: MarkupSafe>=2.1.1 in /usr/local/lib/python3.10/dist-packages (from werkzeug>=1.0.1->tensorboard<2.18,>=2.17->tensorflow) (3.0.2)\n",
      "Requirement already satisfied: markdown-it-py>=2.2.0 in /usr/local/lib/python3.10/dist-packages (from rich->keras>=3.2.0->tensorflow) (3.0.0)\n",
      "Requirement already satisfied: pygments<3.0.0,>=2.13.0 in /usr/local/lib/python3.10/dist-packages (from rich->keras>=3.2.0->tensorflow) (2.18.0)\n",
      "Requirement already satisfied: mdurl~=0.1 in /usr/local/lib/python3.10/dist-packages (from markdown-it-py>=2.2.0->rich->keras>=3.2.0->tensorflow) (0.1.2)\n"
     ]
    }
   ],
   "source": [
    "pip install tensorflow"
   ]
  },
  {
   "cell_type": "markdown",
   "metadata": {
    "id": "1LYPZ34yEP8U"
   },
   "source": [
    "# Deep learning"
   ]
  },
  {
   "cell_type": "code",
   "execution_count": 10,
   "metadata": {
    "colab": {
     "base_uri": "https://localhost:8080/"
    },
    "id": "Wq-BCUtku54t",
    "outputId": "7b7aa3f0-dc6f-421a-938a-4ffba58d3a84"
   },
   "outputs": [
    {
     "name": "stdout",
     "output_type": "stream",
     "text": [
      "Epoch 1/100\n",
      "\u001b[1m1115/1115\u001b[0m \u001b[32m━━━━━━━━━━━━━━━━━━━━\u001b[0m\u001b[37m\u001b[0m \u001b[1m10s\u001b[0m 4ms/step - accuracy: 0.5236 - loss: 1.2045 - val_accuracy: 0.6813 - val_loss: 0.7361 - learning_rate: 1.0000e-04\n",
      "Epoch 2/100\n",
      "\u001b[1m1115/1115\u001b[0m \u001b[32m━━━━━━━━━━━━━━━━━━━━\u001b[0m\u001b[37m\u001b[0m \u001b[1m5s\u001b[0m 2ms/step - accuracy: 0.6825 - loss: 0.7402 - val_accuracy: 0.7022 - val_loss: 0.6846 - learning_rate: 1.0000e-04\n",
      "Epoch 3/100\n",
      "\u001b[1m1115/1115\u001b[0m \u001b[32m━━━━━━━━━━━━━━━━━━━━\u001b[0m\u001b[37m\u001b[0m \u001b[1m2s\u001b[0m 2ms/step - accuracy: 0.6978 - loss: 0.7081 - val_accuracy: 0.7152 - val_loss: 0.6670 - learning_rate: 1.0000e-04\n",
      "Epoch 4/100\n",
      "\u001b[1m1115/1115\u001b[0m \u001b[32m━━━━━━━━━━━━━━━━━━━━\u001b[0m\u001b[37m\u001b[0m \u001b[1m2s\u001b[0m 2ms/step - accuracy: 0.7060 - loss: 0.6907 - val_accuracy: 0.7211 - val_loss: 0.6586 - learning_rate: 1.0000e-04\n",
      "Epoch 5/100\n",
      "\u001b[1m1115/1115\u001b[0m \u001b[32m━━━━━━━━━━━━━━━━━━━━\u001b[0m\u001b[37m\u001b[0m \u001b[1m2s\u001b[0m 2ms/step - accuracy: 0.7077 - loss: 0.6887 - val_accuracy: 0.7206 - val_loss: 0.6531 - learning_rate: 1.0000e-04\n",
      "Epoch 6/100\n",
      "\u001b[1m1115/1115\u001b[0m \u001b[32m━━━━━━━━━━━━━━━━━━━━\u001b[0m\u001b[37m\u001b[0m \u001b[1m2s\u001b[0m 2ms/step - accuracy: 0.7110 - loss: 0.6834 - val_accuracy: 0.7213 - val_loss: 0.6494 - learning_rate: 1.0000e-04\n",
      "Epoch 7/100\n",
      "\u001b[1m1115/1115\u001b[0m \u001b[32m━━━━━━━━━━━━━━━━━━━━\u001b[0m\u001b[37m\u001b[0m \u001b[1m3s\u001b[0m 3ms/step - accuracy: 0.7133 - loss: 0.6717 - val_accuracy: 0.7235 - val_loss: 0.6473 - learning_rate: 1.0000e-04\n",
      "Epoch 8/100\n",
      "\u001b[1m1115/1115\u001b[0m \u001b[32m━━━━━━━━━━━━━━━━━━━━\u001b[0m\u001b[37m\u001b[0m \u001b[1m2s\u001b[0m 2ms/step - accuracy: 0.7095 - loss: 0.6785 - val_accuracy: 0.7271 - val_loss: 0.6446 - learning_rate: 1.0000e-04\n",
      "Epoch 9/100\n",
      "\u001b[1m1115/1115\u001b[0m \u001b[32m━━━━━━━━━━━━━━━━━━━━\u001b[0m\u001b[37m\u001b[0m \u001b[1m2s\u001b[0m 2ms/step - accuracy: 0.7157 - loss: 0.6738 - val_accuracy: 0.7271 - val_loss: 0.6423 - learning_rate: 1.0000e-04\n",
      "Epoch 10/100\n",
      "\u001b[1m1115/1115\u001b[0m \u001b[32m━━━━━━━━━━━━━━━━━━━━\u001b[0m\u001b[37m\u001b[0m \u001b[1m2s\u001b[0m 2ms/step - accuracy: 0.7147 - loss: 0.6675 - val_accuracy: 0.7255 - val_loss: 0.6413 - learning_rate: 1.0000e-04\n",
      "Epoch 11/100\n",
      "\u001b[1m1115/1115\u001b[0m \u001b[32m━━━━━━━━━━━━━━━━━━━━\u001b[0m\u001b[37m\u001b[0m \u001b[1m3s\u001b[0m 2ms/step - accuracy: 0.7182 - loss: 0.6692 - val_accuracy: 0.7258 - val_loss: 0.6403 - learning_rate: 1.0000e-04\n",
      "Epoch 12/100\n",
      "\u001b[1m1115/1115\u001b[0m \u001b[32m━━━━━━━━━━━━━━━━━━━━\u001b[0m\u001b[37m\u001b[0m \u001b[1m3s\u001b[0m 2ms/step - accuracy: 0.7210 - loss: 0.6644 - val_accuracy: 0.7267 - val_loss: 0.6388 - learning_rate: 1.0000e-04\n",
      "Epoch 13/100\n",
      "\u001b[1m1115/1115\u001b[0m \u001b[32m━━━━━━━━━━━━━━━━━━━━\u001b[0m\u001b[37m\u001b[0m \u001b[1m3s\u001b[0m 3ms/step - accuracy: 0.7174 - loss: 0.6584 - val_accuracy: 0.7264 - val_loss: 0.6378 - learning_rate: 1.0000e-04\n",
      "Epoch 14/100\n",
      "\u001b[1m1115/1115\u001b[0m \u001b[32m━━━━━━━━━━━━━━━━━━━━\u001b[0m\u001b[37m\u001b[0m \u001b[1m2s\u001b[0m 2ms/step - accuracy: 0.7180 - loss: 0.6628 - val_accuracy: 0.7244 - val_loss: 0.6376 - learning_rate: 1.0000e-04\n",
      "Epoch 15/100\n",
      "\u001b[1m1115/1115\u001b[0m \u001b[32m━━━━━━━━━━━━━━━━━━━━\u001b[0m\u001b[37m\u001b[0m \u001b[1m3s\u001b[0m 2ms/step - accuracy: 0.7223 - loss: 0.6537 - val_accuracy: 0.7298 - val_loss: 0.6348 - learning_rate: 1.0000e-04\n",
      "Epoch 16/100\n",
      "\u001b[1m1115/1115\u001b[0m \u001b[32m━━━━━━━━━━━━━━━━━━━━\u001b[0m\u001b[37m\u001b[0m \u001b[1m3s\u001b[0m 2ms/step - accuracy: 0.7203 - loss: 0.6552 - val_accuracy: 0.7298 - val_loss: 0.6336 - learning_rate: 1.0000e-04\n",
      "Epoch 17/100\n",
      "\u001b[1m1115/1115\u001b[0m \u001b[32m━━━━━━━━━━━━━━━━━━━━\u001b[0m\u001b[37m\u001b[0m \u001b[1m3s\u001b[0m 2ms/step - accuracy: 0.7227 - loss: 0.6505 - val_accuracy: 0.7253 - val_loss: 0.6334 - learning_rate: 1.0000e-04\n",
      "Epoch 18/100\n",
      "\u001b[1m1115/1115\u001b[0m \u001b[32m━━━━━━━━━━━━━━━━━━━━\u001b[0m\u001b[37m\u001b[0m \u001b[1m3s\u001b[0m 3ms/step - accuracy: 0.7266 - loss: 0.6560 - val_accuracy: 0.7314 - val_loss: 0.6324 - learning_rate: 1.0000e-04\n",
      "Epoch 19/100\n",
      "\u001b[1m1115/1115\u001b[0m \u001b[32m━━━━━━━━━━━━━━━━━━━━\u001b[0m\u001b[37m\u001b[0m \u001b[1m2s\u001b[0m 2ms/step - accuracy: 0.7279 - loss: 0.6515 - val_accuracy: 0.7298 - val_loss: 0.6319 - learning_rate: 1.0000e-04\n",
      "Epoch 20/100\n",
      "\u001b[1m1115/1115\u001b[0m \u001b[32m━━━━━━━━━━━━━━━━━━━━\u001b[0m\u001b[37m\u001b[0m \u001b[1m2s\u001b[0m 2ms/step - accuracy: 0.7239 - loss: 0.6484 - val_accuracy: 0.7294 - val_loss: 0.6314 - learning_rate: 1.0000e-04\n",
      "Epoch 21/100\n",
      "\u001b[1m1115/1115\u001b[0m \u001b[32m━━━━━━━━━━━━━━━━━━━━\u001b[0m\u001b[37m\u001b[0m \u001b[1m2s\u001b[0m 2ms/step - accuracy: 0.7211 - loss: 0.6529 - val_accuracy: 0.7320 - val_loss: 0.6313 - learning_rate: 1.0000e-04\n",
      "Epoch 22/100\n",
      "\u001b[1m1115/1115\u001b[0m \u001b[32m━━━━━━━━━━━━━━━━━━━━\u001b[0m\u001b[37m\u001b[0m \u001b[1m2s\u001b[0m 2ms/step - accuracy: 0.7268 - loss: 0.6449 - val_accuracy: 0.7305 - val_loss: 0.6297 - learning_rate: 1.0000e-04\n",
      "Epoch 23/100\n",
      "\u001b[1m1115/1115\u001b[0m \u001b[32m━━━━━━━━━━━━━━━━━━━━\u001b[0m\u001b[37m\u001b[0m \u001b[1m2s\u001b[0m 2ms/step - accuracy: 0.7224 - loss: 0.6537 - val_accuracy: 0.7300 - val_loss: 0.6302 - learning_rate: 1.0000e-04\n",
      "Epoch 24/100\n",
      "\u001b[1m1115/1115\u001b[0m \u001b[32m━━━━━━━━━━━━━━━━━━━━\u001b[0m\u001b[37m\u001b[0m \u001b[1m3s\u001b[0m 3ms/step - accuracy: 0.7256 - loss: 0.6449 - val_accuracy: 0.7267 - val_loss: 0.6295 - learning_rate: 1.0000e-04\n",
      "Epoch 25/100\n",
      "\u001b[1m1115/1115\u001b[0m \u001b[32m━━━━━━━━━━━━━━━━━━━━\u001b[0m\u001b[37m\u001b[0m \u001b[1m4s\u001b[0m 2ms/step - accuracy: 0.7292 - loss: 0.6366 - val_accuracy: 0.7280 - val_loss: 0.6285 - learning_rate: 1.0000e-04\n",
      "Epoch 26/100\n",
      "\u001b[1m1115/1115\u001b[0m \u001b[32m━━━━━━━━━━━━━━━━━━━━\u001b[0m\u001b[37m\u001b[0m \u001b[1m2s\u001b[0m 2ms/step - accuracy: 0.7269 - loss: 0.6432 - val_accuracy: 0.7298 - val_loss: 0.6283 - learning_rate: 1.0000e-04\n",
      "Epoch 27/100\n",
      "\u001b[1m1115/1115\u001b[0m \u001b[32m━━━━━━━━━━━━━━━━━━━━\u001b[0m\u001b[37m\u001b[0m \u001b[1m2s\u001b[0m 2ms/step - accuracy: 0.7259 - loss: 0.6391 - val_accuracy: 0.7269 - val_loss: 0.6277 - learning_rate: 1.0000e-04\n",
      "Epoch 28/100\n",
      "\u001b[1m1115/1115\u001b[0m \u001b[32m━━━━━━━━━━━━━━━━━━━━\u001b[0m\u001b[37m\u001b[0m \u001b[1m3s\u001b[0m 2ms/step - accuracy: 0.7253 - loss: 0.6479 - val_accuracy: 0.7264 - val_loss: 0.6283 - learning_rate: 1.0000e-04\n",
      "Epoch 29/100\n",
      "\u001b[1m1115/1115\u001b[0m \u001b[32m━━━━━━━━━━━━━━━━━━━━\u001b[0m\u001b[37m\u001b[0m \u001b[1m3s\u001b[0m 3ms/step - accuracy: 0.7261 - loss: 0.6427 - val_accuracy: 0.7323 - val_loss: 0.6264 - learning_rate: 1.0000e-04\n",
      "Epoch 30/100\n",
      "\u001b[1m1115/1115\u001b[0m \u001b[32m━━━━━━━━━━━━━━━━━━━━\u001b[0m\u001b[37m\u001b[0m \u001b[1m4s\u001b[0m 2ms/step - accuracy: 0.7219 - loss: 0.6506 - val_accuracy: 0.7271 - val_loss: 0.6269 - learning_rate: 1.0000e-04\n",
      "Epoch 31/100\n",
      "\u001b[1m1115/1115\u001b[0m \u001b[32m━━━━━━━━━━━━━━━━━━━━\u001b[0m\u001b[37m\u001b[0m \u001b[1m2s\u001b[0m 2ms/step - accuracy: 0.7293 - loss: 0.6404 - val_accuracy: 0.7278 - val_loss: 0.6271 - learning_rate: 1.0000e-04\n",
      "Epoch 32/100\n",
      "\u001b[1m1115/1115\u001b[0m \u001b[32m━━━━━━━━━━━━━━━━━━━━\u001b[0m\u001b[37m\u001b[0m \u001b[1m2s\u001b[0m 2ms/step - accuracy: 0.7289 - loss: 0.6406 - val_accuracy: 0.7280 - val_loss: 0.6259 - learning_rate: 1.0000e-04\n",
      "Epoch 33/100\n",
      "\u001b[1m1115/1115\u001b[0m \u001b[32m━━━━━━━━━━━━━━━━━━━━\u001b[0m\u001b[37m\u001b[0m \u001b[1m3s\u001b[0m 2ms/step - accuracy: 0.7232 - loss: 0.6510 - val_accuracy: 0.7280 - val_loss: 0.6250 - learning_rate: 1.0000e-04\n",
      "Epoch 34/100\n",
      "\u001b[1m1115/1115\u001b[0m \u001b[32m━━━━━━━━━━━━━━━━━━━━\u001b[0m\u001b[37m\u001b[0m \u001b[1m3s\u001b[0m 3ms/step - accuracy: 0.7276 - loss: 0.6427 - val_accuracy: 0.7291 - val_loss: 0.6268 - learning_rate: 1.0000e-04\n",
      "Epoch 35/100\n",
      "\u001b[1m1115/1115\u001b[0m \u001b[32m━━━━━━━━━━━━━━━━━━━━\u001b[0m\u001b[37m\u001b[0m \u001b[1m4s\u001b[0m 2ms/step - accuracy: 0.7304 - loss: 0.6359 - val_accuracy: 0.7298 - val_loss: 0.6259 - learning_rate: 1.0000e-04\n",
      "Epoch 36/100\n",
      "\u001b[1m1115/1115\u001b[0m \u001b[32m━━━━━━━━━━━━━━━━━━━━\u001b[0m\u001b[37m\u001b[0m \u001b[1m2s\u001b[0m 2ms/step - accuracy: 0.7293 - loss: 0.6454 - val_accuracy: 0.7307 - val_loss: 0.6242 - learning_rate: 1.0000e-04\n",
      "Epoch 37/100\n",
      "\u001b[1m1115/1115\u001b[0m \u001b[32m━━━━━━━━━━━━━━━━━━━━\u001b[0m\u001b[37m\u001b[0m \u001b[1m3s\u001b[0m 2ms/step - accuracy: 0.7272 - loss: 0.6349 - val_accuracy: 0.7327 - val_loss: 0.6243 - learning_rate: 1.0000e-04\n",
      "Epoch 38/100\n",
      "\u001b[1m1115/1115\u001b[0m \u001b[32m━━━━━━━━━━━━━━━━━━━━\u001b[0m\u001b[37m\u001b[0m \u001b[1m3s\u001b[0m 2ms/step - accuracy: 0.7265 - loss: 0.6436 - val_accuracy: 0.7294 - val_loss: 0.6246 - learning_rate: 1.0000e-04\n",
      "Epoch 39/100\n",
      "\u001b[1m1115/1115\u001b[0m \u001b[32m━━━━━━━━━━━━━━━━━━━━\u001b[0m\u001b[37m\u001b[0m \u001b[1m3s\u001b[0m 3ms/step - accuracy: 0.7294 - loss: 0.6345 - val_accuracy: 0.7314 - val_loss: 0.6238 - learning_rate: 1.0000e-04\n",
      "Epoch 40/100\n",
      "\u001b[1m1115/1115\u001b[0m \u001b[32m━━━━━━━━━━━━━━━━━━━━\u001b[0m\u001b[37m\u001b[0m \u001b[1m4s\u001b[0m 2ms/step - accuracy: 0.7251 - loss: 0.6428 - val_accuracy: 0.7314 - val_loss: 0.6241 - learning_rate: 1.0000e-04\n",
      "Epoch 41/100\n",
      "\u001b[1m1115/1115\u001b[0m \u001b[32m━━━━━━━━━━━━━━━━━━━━\u001b[0m\u001b[37m\u001b[0m \u001b[1m2s\u001b[0m 2ms/step - accuracy: 0.7293 - loss: 0.6349 - val_accuracy: 0.7329 - val_loss: 0.6232 - learning_rate: 1.0000e-04\n",
      "Epoch 42/100\n",
      "\u001b[1m1115/1115\u001b[0m \u001b[32m━━━━━━━━━━━━━━━━━━━━\u001b[0m\u001b[37m\u001b[0m \u001b[1m2s\u001b[0m 2ms/step - accuracy: 0.7279 - loss: 0.6396 - val_accuracy: 0.7323 - val_loss: 0.6234 - learning_rate: 1.0000e-04\n",
      "Epoch 43/100\n",
      "\u001b[1m1115/1115\u001b[0m \u001b[32m━━━━━━━━━━━━━━━━━━━━\u001b[0m\u001b[37m\u001b[0m \u001b[1m3s\u001b[0m 3ms/step - accuracy: 0.7261 - loss: 0.6410 - val_accuracy: 0.7341 - val_loss: 0.6241 - learning_rate: 1.0000e-04\n",
      "Epoch 44/100\n",
      "\u001b[1m1115/1115\u001b[0m \u001b[32m━━━━━━━━━━━━━━━━━━━━\u001b[0m\u001b[37m\u001b[0m \u001b[1m4s\u001b[0m 2ms/step - accuracy: 0.7242 - loss: 0.6439 - val_accuracy: 0.7323 - val_loss: 0.6226 - learning_rate: 1.0000e-04\n",
      "Epoch 45/100\n",
      "\u001b[1m1115/1115\u001b[0m \u001b[32m━━━━━━━━━━━━━━━━━━━━\u001b[0m\u001b[37m\u001b[0m \u001b[1m2s\u001b[0m 2ms/step - accuracy: 0.7323 - loss: 0.6328 - val_accuracy: 0.7359 - val_loss: 0.6232 - learning_rate: 1.0000e-04\n",
      "Epoch 46/100\n",
      "\u001b[1m1115/1115\u001b[0m \u001b[32m━━━━━━━━━━━━━━━━━━━━\u001b[0m\u001b[37m\u001b[0m \u001b[1m3s\u001b[0m 2ms/step - accuracy: 0.7306 - loss: 0.6363 - val_accuracy: 0.7336 - val_loss: 0.6226 - learning_rate: 1.0000e-04\n",
      "Epoch 47/100\n",
      "\u001b[1m1115/1115\u001b[0m \u001b[32m━━━━━━━━━━━━━━━━━━━━\u001b[0m\u001b[37m\u001b[0m \u001b[1m2s\u001b[0m 2ms/step - accuracy: 0.7261 - loss: 0.6438 - val_accuracy: 0.7347 - val_loss: 0.6235 - learning_rate: 1.0000e-04\n",
      "Epoch 48/100\n",
      "\u001b[1m1115/1115\u001b[0m \u001b[32m━━━━━━━━━━━━━━━━━━━━\u001b[0m\u001b[37m\u001b[0m \u001b[1m3s\u001b[0m 3ms/step - accuracy: 0.7251 - loss: 0.6419 - val_accuracy: 0.7338 - val_loss: 0.6225 - learning_rate: 5.0000e-05\n",
      "Epoch 49/100\n",
      "\u001b[1m1115/1115\u001b[0m \u001b[32m━━━━━━━━━━━━━━━━━━━━\u001b[0m\u001b[37m\u001b[0m \u001b[1m2s\u001b[0m 2ms/step - accuracy: 0.7315 - loss: 0.6340 - val_accuracy: 0.7325 - val_loss: 0.6223 - learning_rate: 5.0000e-05\n",
      "Epoch 50/100\n",
      "\u001b[1m1115/1115\u001b[0m \u001b[32m━━━━━━━━━━━━━━━━━━━━\u001b[0m\u001b[37m\u001b[0m \u001b[1m2s\u001b[0m 2ms/step - accuracy: 0.7243 - loss: 0.6359 - val_accuracy: 0.7341 - val_loss: 0.6225 - learning_rate: 5.0000e-05\n",
      "Epoch 51/100\n",
      "\u001b[1m1115/1115\u001b[0m \u001b[32m━━━━━━━━━━━━━━━━━━━━\u001b[0m\u001b[37m\u001b[0m \u001b[1m2s\u001b[0m 2ms/step - accuracy: 0.7269 - loss: 0.6381 - val_accuracy: 0.7327 - val_loss: 0.6227 - learning_rate: 5.0000e-05\n",
      "Epoch 52/100\n",
      "\u001b[1m1115/1115\u001b[0m \u001b[32m━━━━━━━━━━━━━━━━━━━━\u001b[0m\u001b[37m\u001b[0m \u001b[1m3s\u001b[0m 2ms/step - accuracy: 0.7282 - loss: 0.6417 - val_accuracy: 0.7329 - val_loss: 0.6219 - learning_rate: 5.0000e-05\n",
      "Epoch 53/100\n",
      "\u001b[1m1115/1115\u001b[0m \u001b[32m━━━━━━━━━━━━━━━━━━━━\u001b[0m\u001b[37m\u001b[0m \u001b[1m3s\u001b[0m 2ms/step - accuracy: 0.7269 - loss: 0.6418 - val_accuracy: 0.7329 - val_loss: 0.6219 - learning_rate: 5.0000e-05\n",
      "Epoch 54/100\n",
      "\u001b[1m1115/1115\u001b[0m \u001b[32m━━━━━━━━━━━━━━━━━━━━\u001b[0m\u001b[37m\u001b[0m \u001b[1m5s\u001b[0m 2ms/step - accuracy: 0.7282 - loss: 0.6364 - val_accuracy: 0.7314 - val_loss: 0.6223 - learning_rate: 5.0000e-05\n",
      "Epoch 55/100\n",
      "\u001b[1m1115/1115\u001b[0m \u001b[32m━━━━━━━━━━━━━━━━━━━━\u001b[0m\u001b[37m\u001b[0m \u001b[1m3s\u001b[0m 2ms/step - accuracy: 0.7303 - loss: 0.6344 - val_accuracy: 0.7329 - val_loss: 0.6216 - learning_rate: 5.0000e-05\n",
      "Epoch 56/100\n",
      "\u001b[1m1115/1115\u001b[0m \u001b[32m━━━━━━━━━━━━━━━━━━━━\u001b[0m\u001b[37m\u001b[0m \u001b[1m3s\u001b[0m 2ms/step - accuracy: 0.7312 - loss: 0.6333 - val_accuracy: 0.7334 - val_loss: 0.6218 - learning_rate: 5.0000e-05\n",
      "Epoch 57/100\n",
      "\u001b[1m1115/1115\u001b[0m \u001b[32m━━━━━━━━━━━━━━━━━━━━\u001b[0m\u001b[37m\u001b[0m \u001b[1m3s\u001b[0m 2ms/step - accuracy: 0.7299 - loss: 0.6331 - val_accuracy: 0.7341 - val_loss: 0.6217 - learning_rate: 5.0000e-05\n",
      "Epoch 58/100\n",
      "\u001b[1m1115/1115\u001b[0m \u001b[32m━━━━━━━━━━━━━━━━━━━━\u001b[0m\u001b[37m\u001b[0m \u001b[1m3s\u001b[0m 3ms/step - accuracy: 0.7299 - loss: 0.6397 - val_accuracy: 0.7318 - val_loss: 0.6210 - learning_rate: 5.0000e-05\n",
      "Epoch 59/100\n",
      "\u001b[1m1115/1115\u001b[0m \u001b[32m━━━━━━━━━━━━━━━━━━━━\u001b[0m\u001b[37m\u001b[0m \u001b[1m4s\u001b[0m 2ms/step - accuracy: 0.7322 - loss: 0.6360 - val_accuracy: 0.7343 - val_loss: 0.6220 - learning_rate: 5.0000e-05\n",
      "Epoch 60/100\n",
      "\u001b[1m1115/1115\u001b[0m \u001b[32m━━━━━━━━━━━━━━━━━━━━\u001b[0m\u001b[37m\u001b[0m \u001b[1m2s\u001b[0m 2ms/step - accuracy: 0.7277 - loss: 0.6369 - val_accuracy: 0.7350 - val_loss: 0.6218 - learning_rate: 5.0000e-05\n",
      "Epoch 61/100\n",
      "\u001b[1m1115/1115\u001b[0m \u001b[32m━━━━━━━━━━━━━━━━━━━━\u001b[0m\u001b[37m\u001b[0m \u001b[1m2s\u001b[0m 2ms/step - accuracy: 0.7291 - loss: 0.6341 - val_accuracy: 0.7311 - val_loss: 0.6208 - learning_rate: 5.0000e-05\n",
      "Epoch 62/100\n",
      "\u001b[1m1115/1115\u001b[0m \u001b[32m━━━━━━━━━━━━━━━━━━━━\u001b[0m\u001b[37m\u001b[0m \u001b[1m3s\u001b[0m 2ms/step - accuracy: 0.7282 - loss: 0.6343 - val_accuracy: 0.7327 - val_loss: 0.6207 - learning_rate: 5.0000e-05\n",
      "Epoch 63/100\n",
      "\u001b[1m1115/1115\u001b[0m \u001b[32m━━━━━━━━━━━━━━━━━━━━\u001b[0m\u001b[37m\u001b[0m \u001b[1m5s\u001b[0m 2ms/step - accuracy: 0.7303 - loss: 0.6291 - val_accuracy: 0.7327 - val_loss: 0.6210 - learning_rate: 5.0000e-05\n",
      "Epoch 64/100\n",
      "\u001b[1m1115/1115\u001b[0m \u001b[32m━━━━━━━━━━━━━━━━━━━━\u001b[0m\u001b[37m\u001b[0m \u001b[1m2s\u001b[0m 2ms/step - accuracy: 0.7344 - loss: 0.6237 - val_accuracy: 0.7350 - val_loss: 0.6214 - learning_rate: 5.0000e-05\n",
      "Epoch 65/100\n",
      "\u001b[1m1115/1115\u001b[0m \u001b[32m━━━━━━━━━━━━━━━━━━━━\u001b[0m\u001b[37m\u001b[0m \u001b[1m2s\u001b[0m 2ms/step - accuracy: 0.7329 - loss: 0.6308 - val_accuracy: 0.7327 - val_loss: 0.6207 - learning_rate: 5.0000e-05\n",
      "Epoch 66/100\n",
      "\u001b[1m1115/1115\u001b[0m \u001b[32m━━━━━━━━━━━━━━━━━━━━\u001b[0m\u001b[37m\u001b[0m \u001b[1m2s\u001b[0m 2ms/step - accuracy: 0.7297 - loss: 0.6334 - val_accuracy: 0.7332 - val_loss: 0.6206 - learning_rate: 2.5000e-05\n",
      "Epoch 67/100\n",
      "\u001b[1m1115/1115\u001b[0m \u001b[32m━━━━━━━━━━━━━━━━━━━━\u001b[0m\u001b[37m\u001b[0m \u001b[1m3s\u001b[0m 3ms/step - accuracy: 0.7283 - loss: 0.6344 - val_accuracy: 0.7341 - val_loss: 0.6205 - learning_rate: 2.5000e-05\n",
      "Epoch 68/100\n",
      "\u001b[1m1115/1115\u001b[0m \u001b[32m━━━━━━━━━━━━━━━━━━━━\u001b[0m\u001b[37m\u001b[0m \u001b[1m4s\u001b[0m 2ms/step - accuracy: 0.7294 - loss: 0.6342 - val_accuracy: 0.7343 - val_loss: 0.6202 - learning_rate: 2.5000e-05\n",
      "Epoch 69/100\n",
      "\u001b[1m1115/1115\u001b[0m \u001b[32m━━━━━━━━━━━━━━━━━━━━\u001b[0m\u001b[37m\u001b[0m \u001b[1m3s\u001b[0m 2ms/step - accuracy: 0.7297 - loss: 0.6357 - val_accuracy: 0.7323 - val_loss: 0.6205 - learning_rate: 2.5000e-05\n",
      "Epoch 70/100\n",
      "\u001b[1m1115/1115\u001b[0m \u001b[32m━━━━━━━━━━━━━━━━━━━━\u001b[0m\u001b[37m\u001b[0m \u001b[1m3s\u001b[0m 2ms/step - accuracy: 0.7302 - loss: 0.6335 - val_accuracy: 0.7359 - val_loss: 0.6202 - learning_rate: 2.5000e-05\n",
      "Epoch 71/100\n",
      "\u001b[1m1115/1115\u001b[0m \u001b[32m━━━━━━━━━━━━━━━━━━━━\u001b[0m\u001b[37m\u001b[0m \u001b[1m3s\u001b[0m 3ms/step - accuracy: 0.7282 - loss: 0.6338 - val_accuracy: 0.7334 - val_loss: 0.6207 - learning_rate: 2.5000e-05\n",
      "Epoch 72/100\n",
      "\u001b[1m1115/1115\u001b[0m \u001b[32m━━━━━━━━━━━━━━━━━━━━\u001b[0m\u001b[37m\u001b[0m \u001b[1m3s\u001b[0m 3ms/step - accuracy: 0.7327 - loss: 0.6290 - val_accuracy: 0.7332 - val_loss: 0.6202 - learning_rate: 1.2500e-05\n",
      "Epoch 73/100\n",
      "\u001b[1m1115/1115\u001b[0m \u001b[32m━━━━━━━━━━━━━━━━━━━━\u001b[0m\u001b[37m\u001b[0m \u001b[1m4s\u001b[0m 2ms/step - accuracy: 0.7293 - loss: 0.6352 - val_accuracy: 0.7334 - val_loss: 0.6200 - learning_rate: 1.2500e-05\n",
      "Epoch 74/100\n",
      "\u001b[1m1115/1115\u001b[0m \u001b[32m━━━━━━━━━━━━━━━━━━━━\u001b[0m\u001b[37m\u001b[0m \u001b[1m3s\u001b[0m 2ms/step - accuracy: 0.7280 - loss: 0.6351 - val_accuracy: 0.7341 - val_loss: 0.6202 - learning_rate: 1.2500e-05\n",
      "Epoch 75/100\n",
      "\u001b[1m1115/1115\u001b[0m \u001b[32m━━━━━━━━━━━━━━━━━━━━\u001b[0m\u001b[37m\u001b[0m \u001b[1m2s\u001b[0m 2ms/step - accuracy: 0.7294 - loss: 0.6357 - val_accuracy: 0.7325 - val_loss: 0.6202 - learning_rate: 1.2500e-05\n",
      "Epoch 76/100\n",
      "\u001b[1m1115/1115\u001b[0m \u001b[32m━━━━━━━━━━━━━━━━━━━━\u001b[0m\u001b[37m\u001b[0m \u001b[1m4s\u001b[0m 3ms/step - accuracy: 0.7333 - loss: 0.6287 - val_accuracy: 0.7320 - val_loss: 0.6202 - learning_rate: 1.2500e-05\n",
      "Epoch 77/100\n",
      "\u001b[1m1115/1115\u001b[0m \u001b[32m━━━━━━━━━━━━━━━━━━━━\u001b[0m\u001b[37m\u001b[0m \u001b[1m4s\u001b[0m 2ms/step - accuracy: 0.7272 - loss: 0.6374 - val_accuracy: 0.7325 - val_loss: 0.6201 - learning_rate: 6.2500e-06\n",
      "Epoch 78/100\n",
      "\u001b[1m1115/1115\u001b[0m \u001b[32m━━━━━━━━━━━━━━━━━━━━\u001b[0m\u001b[37m\u001b[0m \u001b[1m3s\u001b[0m 2ms/step - accuracy: 0.7355 - loss: 0.6258 - val_accuracy: 0.7327 - val_loss: 0.6200 - learning_rate: 6.2500e-06\n",
      "Epoch 79/100\n",
      "\u001b[1m1115/1115\u001b[0m \u001b[32m━━━━━━━━━━━━━━━━━━━━\u001b[0m\u001b[37m\u001b[0m \u001b[1m3s\u001b[0m 2ms/step - accuracy: 0.7301 - loss: 0.6383 - val_accuracy: 0.7329 - val_loss: 0.6200 - learning_rate: 6.2500e-06\n",
      "Epoch 80/100\n",
      "\u001b[1m1115/1115\u001b[0m \u001b[32m━━━━━━━━━━━━━━━━━━━━\u001b[0m\u001b[37m\u001b[0m \u001b[1m3s\u001b[0m 2ms/step - accuracy: 0.7278 - loss: 0.6348 - val_accuracy: 0.7327 - val_loss: 0.6200 - learning_rate: 3.1250e-06\n",
      "Epoch 81/100\n",
      "\u001b[1m1115/1115\u001b[0m \u001b[32m━━━━━━━━━━━━━━━━━━━━\u001b[0m\u001b[37m\u001b[0m \u001b[1m5s\u001b[0m 2ms/step - accuracy: 0.7288 - loss: 0.6315 - val_accuracy: 0.7327 - val_loss: 0.6200 - learning_rate: 3.1250e-06\n",
      "Epoch 82/100\n",
      "\u001b[1m1115/1115\u001b[0m \u001b[32m━━━━━━━━━━━━━━━━━━━━\u001b[0m\u001b[37m\u001b[0m \u001b[1m2s\u001b[0m 2ms/step - accuracy: 0.7333 - loss: 0.6317 - val_accuracy: 0.7323 - val_loss: 0.6200 - learning_rate: 3.1250e-06\n",
      "Epoch 83/100\n",
      "\u001b[1m1115/1115\u001b[0m \u001b[32m━━━━━━━━━━━━━━━━━━━━\u001b[0m\u001b[37m\u001b[0m \u001b[1m2s\u001b[0m 2ms/step - accuracy: 0.7304 - loss: 0.6319 - val_accuracy: 0.7325 - val_loss: 0.6200 - learning_rate: 1.5625e-06\n"
     ]
    }
   ],
   "source": [
    "from sklearn.model_selection import train_test_split\n",
    "from tensorflow.keras.models import Model\n",
    "from tensorflow.keras.layers import Input, Dense, Dropout, Reshape, Concatenate\n",
    "from tensorflow.keras.optimizers import Adam\n",
    "from tensorflow.keras.callbacks import EarlyStopping, ReduceLROnPlateau\n",
    "from tensorflow.keras.utils import to_categorical\n",
    "from sklearn.preprocessing import StandardScaler, RobustScaler\n",
    "features1 = ['drltl', 'sotchk']\n",
    "features2 = ['namhoc', 'dtbhk_truoc']\n",
    "\n",
    "X1 = np.array(X[features1])\n",
    "X2 = np.array(X[features2])\n",
    "\n",
    "num_classes = len(np.unique(y))\n",
    "\n",
    "# Tiền xử lý dữ liệu\n",
    "scaler = RobustScaler()\n",
    "X1_scaled = scaler.fit_transform(X1)\n",
    "X2_scaled = scaler.fit_transform(X2)\n",
    "\n",
    "# Mã hóa y sang dạng one-hot\n",
    "y_one_hot = to_categorical(y, num_classes=num_classes)\n",
    "\n",
    "X1_train, X1_temp, X2_train, X2_temp, y_train, y_temp = train_test_split(\n",
    "    X1_scaled, X2_scaled, y_one_hot, test_size=0.2, random_state=42\n",
    ")\n",
    "\n",
    "X1_val, X1_test, X2_val, X2_test, y_val, y_test = train_test_split(\n",
    "    X1_temp, X2_temp, y_temp, test_size=0.5, random_state=42\n",
    ")\n",
    "\n",
    "input_1 = Input(shape=(X1_train.shape[1],))\n",
    "input_2 = Input(shape=(X2_train.shape[1],))\n",
    "\n",
    "x1_layer = Dense(128, activation='relu')(input_1)\n",
    "x2_layer = Dense(128, activation='relu')(input_2)\n",
    "\n",
    "merged = Concatenate()([x1_layer, x2_layer])\n",
    "merged = Dropout(0.4)(merged)\n",
    "merged = Dense(64, activation='relu')(merged)\n",
    "\n",
    "output = Dense(num_classes, activation='softmax')(merged)  #\n",
    "model = Model(inputs=[input_1, input_2], outputs=output)\n",
    "\n",
    "model.compile(optimizer=Adam(learning_rate=0.0001), loss='categorical_crossentropy', metrics=['accuracy'])\n",
    "\n",
    "early_stopping = EarlyStopping(monitor='val_loss', patience=5, restore_best_weights=True)\n",
    "lr_scheduler = ReduceLROnPlateau(monitor='val_loss', factor=0.5, patience=3, min_lr=1e-6)\n",
    "\n",
    "history = model.fit(\n",
    "    [X1_train, X2_train], y_train,\n",
    "    validation_data=([X1_val, X2_val], y_val),\n",
    "    epochs=100,\n",
    "    batch_size=32,\n",
    "    callbacks=[early_stopping, lr_scheduler]\n",
    ")"
   ]
  },
  {
   "cell_type": "code",
   "execution_count": 11,
   "metadata": {
    "colab": {
     "base_uri": "https://localhost:8080/"
    },
    "id": "YTeUzRJXyXj-",
    "outputId": "7f914bff-6419-44bd-caa6-bd5cb21ae61a"
   },
   "outputs": [
    {
     "name": "stdout",
     "output_type": "stream",
     "text": [
      "\u001b[1m140/140\u001b[0m \u001b[32m━━━━━━━━━━━━━━━━━━━━\u001b[0m\u001b[37m\u001b[0m \u001b[1m1s\u001b[0m 7ms/step - accuracy: 0.7320 - loss: 0.6205\n",
      "Test loss: 0.6391175985336304\n",
      "Test accuracy: 0.7242540121078491\n"
     ]
    }
   ],
   "source": [
    "test_loss, test_accuracy = model.evaluate([X1_test, X2_test], y_test)\n",
    "print(f\"Test loss: {test_loss}\")\n",
    "print(f\"Test accuracy: {test_accuracy}\")"
   ]
  },
  {
   "cell_type": "code",
   "execution_count": 13,
   "metadata": {
    "colab": {
     "base_uri": "https://localhost:8080/",
     "height": 564
    },
    "id": "_dsTEVeSQx11",
    "outputId": "10c65424-7114-4cdc-d506-640cf6e74782"
   },
   "outputs": [
    {
     "data": {
      "image/png": "[encoded data removed]",
      "text/plain": [
       "<Figure size 1000x600 with 1 Axes>"
      ]
     },
     "metadata": {},
     "output_type": "display_data"
    }
   ],
   "source": [
    "plt.figure(figsize=(10, 6))\n",
    "plt.plot(history.history['accuracy'], label='Train Accuracy')\n",
    "plt.plot(history.history['val_accuracy'], label='Validation Accuracy')\n",
    "plt.plot(history.history['loss'], label='Train Loss')\n",
    "plt.plot(history.history['val_loss'], label='Validation Loss')\n",
    "plt.legend()\n",
    "plt.title(\"Learning Curve\")\n",
    "plt.xlabel(\"Epochs\")\n",
    "plt.ylabel(\"Metrics\")\n",
    "plt.show()"
   ]
  }
 ],
 "metadata": {
  "accelerator": "GPU",
  "colab": {
   "gpuType": "T4",
   "provenance": []
  },
  "kernelspec": {
   "display_name": "Python 3",
   "name": "python3"
  },
  "language_info": {
   "name": "python"
  }
 },
 "nbformat": 4,
 "nbformat_minor": 0
}
